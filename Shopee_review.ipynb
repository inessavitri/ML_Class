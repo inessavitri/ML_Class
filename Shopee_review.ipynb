{
 "cells": [
  {
   "cell_type": "markdown",
   "id": "4ead68b6",
   "metadata": {},
   "source": [
    "# Project 4 Machine Learning\n",
    "\n",
    "## Analisis Sentimen pada Ulasan Aplikasi Shopee di Google Play Store"
   ]
  },
  {
   "cell_type": "markdown",
   "id": "adfcd9d3",
   "metadata": {},
   "source": [
    "- Raikhan Noer (4112320016)\n",
    "- Ines Savitri (4112320039)\n",
    "- Liopi Purwati (4112320042)"
   ]
  },
  {
   "cell_type": "code",
   "execution_count": 1,
   "id": "a76198f0",
   "metadata": {},
   "outputs": [
    {
     "data": {
      "text/html": [
       "<div>\n",
       "<style scoped>\n",
       "    .dataframe tbody tr th:only-of-type {\n",
       "        vertical-align: middle;\n",
       "    }\n",
       "\n",
       "    .dataframe tbody tr th {\n",
       "        vertical-align: top;\n",
       "    }\n",
       "\n",
       "    .dataframe thead th {\n",
       "        text-align: right;\n",
       "    }\n",
       "</style>\n",
       "<table border=\"1\" class=\"dataframe\">\n",
       "  <thead>\n",
       "    <tr style=\"text-align: right;\">\n",
       "      <th></th>\n",
       "      <th>label</th>\n",
       "      <th>text</th>\n",
       "    </tr>\n",
       "  </thead>\n",
       "  <tbody>\n",
       "    <tr>\n",
       "      <th>0</th>\n",
       "      <td>5</td>\n",
       "      <td>Was pleasantly surprised with the same night d...</td>\n",
       "    </tr>\n",
       "    <tr>\n",
       "      <th>1</th>\n",
       "      <td>5</td>\n",
       "      <td>This is the cheapest Authentic cricut I can fi...</td>\n",
       "    </tr>\n",
       "    <tr>\n",
       "      <th>2</th>\n",
       "      <td>5</td>\n",
       "      <td>Love the material and worth the price! Can't w...</td>\n",
       "    </tr>\n",
       "    <tr>\n",
       "      <th>3</th>\n",
       "      <td>5</td>\n",
       "      <td>Very fast delivery.  Easily assembled and stur...</td>\n",
       "    </tr>\n",
       "    <tr>\n",
       "      <th>4</th>\n",
       "      <td>2</td>\n",
       "      <td>The ink is quite faint ....</td>\n",
       "    </tr>\n",
       "    <tr>\n",
       "      <th>...</th>\n",
       "      <td>...</td>\n",
       "      <td>...</td>\n",
       "    </tr>\n",
       "    <tr>\n",
       "      <th>9995</th>\n",
       "      <td>4</td>\n",
       "      <td>Item arrived prominently. Comfortable to wear ...</td>\n",
       "    </tr>\n",
       "    <tr>\n",
       "      <th>9996</th>\n",
       "      <td>5</td>\n",
       "      <td>Only downfall, pointed side has no function</td>\n",
       "    </tr>\n",
       "    <tr>\n",
       "      <th>9997</th>\n",
       "      <td>5</td>\n",
       "      <td>Game received. Able to login and play.</td>\n",
       "    </tr>\n",
       "    <tr>\n",
       "      <th>9998</th>\n",
       "      <td>3</td>\n",
       "      <td>i feel like it’d be better if we can choose th...</td>\n",
       "    </tr>\n",
       "    <tr>\n",
       "      <th>9999</th>\n",
       "      <td>1</td>\n",
       "      <td>Bought from the seller for a 2nd time because ...</td>\n",
       "    </tr>\n",
       "  </tbody>\n",
       "</table>\n",
       "<p>10000 rows × 2 columns</p>\n",
       "</div>"
      ],
      "text/plain": [
       "      label                                               text\n",
       "0         5  Was pleasantly surprised with the same night d...\n",
       "1         5  This is the cheapest Authentic cricut I can fi...\n",
       "2         5  Love the material and worth the price! Can't w...\n",
       "3         5  Very fast delivery.  Easily assembled and stur...\n",
       "4         2                       The ink is quite faint .... \n",
       "...     ...                                                ...\n",
       "9995      4  Item arrived prominently. Comfortable to wear ...\n",
       "9996      5        Only downfall, pointed side has no function\n",
       "9997      5            Game received. Able to login and play. \n",
       "9998      3  i feel like it’d be better if we can choose th...\n",
       "9999      1  Bought from the seller for a 2nd time because ...\n",
       "\n",
       "[10000 rows x 2 columns]"
      ]
     },
     "execution_count": 1,
     "metadata": {},
     "output_type": "execute_result"
    }
   ],
   "source": [
    "import pandas as pd\n",
    "\n",
    "# Membaca file\n",
    "df = pd.read_csv('shopee.csv')\n",
    "df"
   ]
  },
  {
   "cell_type": "markdown",
   "id": "368083b1",
   "metadata": {},
   "source": [
    "## A. Pengenalan"
   ]
  },
  {
   "cell_type": "markdown",
   "id": "20f9a0b4",
   "metadata": {
    "id": "20f9a0b4"
   },
   "source": [
    "### Analisis Sentimen"
   ]
  },
  {
   "cell_type": "markdown",
   "id": "9436e5be",
   "metadata": {},
   "source": [
    "Analisis sentimen adalah proses menganalisis teks digital untuk menentukan apakah nada emosional pesan tersebut positif, negatif, atau netral. Saat ini, perusahaan memiliki data teks dalam volume besar seperti email, transkrip obrolan dukungan pelanggan, komentar media sosial, dan ulasan. Alat analisis sentimen dapat memindai teks ini untuk secara otomatis menentukan sikap penulis terhadap suatu topik. Perusahaan menggunakan wawasan dari analisis sentimen untuk meningkatkan mutu layanan pelanggan dan meningkatkan reputasi merek."
   ]
  },
  {
   "cell_type": "markdown",
   "id": "f622fd64",
   "metadata": {},
   "source": [
    "### Aplikasi Shopee"
   ]
  },
  {
   "cell_type": "markdown",
   "id": "0738f6b8",
   "metadata": {},
   "source": [
    "Shopee adalah platform belanja online terdepan di Asia Tenggara dan Taiwan. Diluncurkan tahun 2015, Shopee merupakan sebuah platform yang disesuaikan untuk tiap wilayah dan menyediakan pengalaman berbelanja online yang mudah, aman, dan cepat bagi pelanggan melalui dukungan pembayaran dan logistik yang kuat. Aplikasi shopee dapat diakses secara mudah dengan menggunakan smartphone. Shopee hadir dalam bentuk aplikasi yang memudahkan penggunanya dalam melakukan kegiatan berbelanja secara online tanpa menggunakan perangkat komputer. Shopee hadir dengan menawarkan berbagai macam produk-produk untuk kebutuhan sehari-hari. \n",
    "\n",
    "Aplikasi Shopee bisa didownload melalui Google Playstore atau Apps Store untuk iOS. Pelanggan yang telah mendownload bisa memberikan ulasan terkait pengalaman menggunakan sebuah aplikasi yang telah di download pada Google Playstore maupun Apps Store. Hasil dari ulasan pelanggan yang akan menentukan sebaik atau seburuk apa aplikasi tersebut."
   ]
  },
  {
   "cell_type": "markdown",
   "id": "dffe0e16",
   "metadata": {},
   "source": [
    "### Tentang Dataset\n",
    "\n",
    "Data Ulasan Shopee ini berasal dari kaggle dataset, https://www.kaggle.com/datasets/shymammoth/shopee-reviews. Data ini berisi sebanyak 10000 baris data dan 2 kolom.\n",
    "\n",
    "Tujuan dari penelitian ini adalah mengetahui sentimen dari ulasan pengguna aplikasi Shopee pada Google Playstore. "
   ]
  },
  {
   "cell_type": "markdown",
   "id": "35a1f269",
   "metadata": {},
   "source": [
    "### Deskripsi variabel\n",
    "\n",
    "- label : berisi rating dari pengguna yang telah menggunakan aplikasi Shopee\n",
    "- text : ulasan pengguna yang telah menggunakan aplikasi Shopee"
   ]
  },
  {
   "cell_type": "markdown",
   "id": "4eda864c",
   "metadata": {
    "id": "4eda864c"
   },
   "source": [
    "## B. Import Library"
   ]
  },
  {
   "cell_type": "code",
   "execution_count": 2,
   "id": "6234da7c",
   "metadata": {
    "colab": {
     "base_uri": "https://localhost:8080/"
    },
    "id": "6234da7c",
    "outputId": "1bf937dc-30de-4cc5-d1aa-808da8d2fe53"
   },
   "outputs": [
    {
     "name": "stdout",
     "output_type": "stream",
     "text": [
      "Requirement already satisfied: Sastrawi in c:\\users\\pf3kk\\anaconda3\\lib\\site-packages (1.0.1)\n"
     ]
    }
   ],
   "source": [
    "!pip install Sastrawi"
   ]
  },
  {
   "cell_type": "code",
   "execution_count": 3,
   "id": "b6d96e8b",
   "metadata": {},
   "outputs": [
    {
     "name": "stdout",
     "output_type": "stream",
     "text": [
      "Requirement already satisfied: wordcloud in c:\\users\\pf3kk\\anaconda3\\lib\\site-packages (1.8.2.2)\n",
      "Requirement already satisfied: pandas in c:\\users\\pf3kk\\anaconda3\\lib\\site-packages (1.4.2)\n",
      "Requirement already satisfied: numpy>=1.6.1 in c:\\users\\pf3kk\\anaconda3\\lib\\site-packages (from wordcloud) (1.21.5)\n",
      "Requirement already satisfied: matplotlib in c:\\users\\pf3kk\\anaconda3\\lib\\site-packages (from wordcloud) (3.5.1)\n",
      "Requirement already satisfied: pillow in c:\\users\\pf3kk\\anaconda3\\lib\\site-packages (from wordcloud) (9.0.1)\n",
      "Requirement already satisfied: python-dateutil>=2.8.1 in c:\\users\\pf3kk\\anaconda3\\lib\\site-packages (from pandas) (2.8.2)\n",
      "Requirement already satisfied: pytz>=2020.1 in c:\\users\\pf3kk\\anaconda3\\lib\\site-packages (from pandas) (2021.3)\n",
      "Requirement already satisfied: six>=1.5 in c:\\users\\pf3kk\\anaconda3\\lib\\site-packages (from python-dateutil>=2.8.1->pandas) (1.16.0)\n",
      "Requirement already satisfied: fonttools>=4.22.0 in c:\\users\\pf3kk\\anaconda3\\lib\\site-packages (from matplotlib->wordcloud) (4.25.0)\n",
      "Requirement already satisfied: pyparsing>=2.2.1 in c:\\users\\pf3kk\\anaconda3\\lib\\site-packages (from matplotlib->wordcloud) (3.0.4)\n",
      "Requirement already satisfied: cycler>=0.10 in c:\\users\\pf3kk\\anaconda3\\lib\\site-packages (from matplotlib->wordcloud) (0.11.0)\n",
      "Requirement already satisfied: packaging>=20.0 in c:\\users\\pf3kk\\anaconda3\\lib\\site-packages (from matplotlib->wordcloud) (21.3)\n",
      "Requirement already satisfied: kiwisolver>=1.0.1 in c:\\users\\pf3kk\\anaconda3\\lib\\site-packages (from matplotlib->wordcloud) (1.3.2)\n"
     ]
    }
   ],
   "source": [
    "!pip install wordcloud pandas"
   ]
  },
  {
   "cell_type": "code",
   "execution_count": 4,
   "id": "4d6e7086",
   "metadata": {
    "colab": {
     "base_uri": "https://localhost:8080/"
    },
    "id": "4d6e7086",
    "outputId": "c9c43f9f-65d3-4e19-fffb-8005b8eb1c4e"
   },
   "outputs": [
    {
     "name": "stderr",
     "output_type": "stream",
     "text": [
      "[nltk_data] Downloading package stopwords to\n",
      "[nltk_data]     C:\\Users\\PF3KK\\AppData\\Roaming\\nltk_data...\n",
      "[nltk_data]   Package stopwords is already up-to-date!\n",
      "[nltk_data] Downloading package words to\n",
      "[nltk_data]     C:\\Users\\PF3KK\\AppData\\Roaming\\nltk_data...\n",
      "[nltk_data]   Package words is already up-to-date!\n",
      "[nltk_data] Downloading package wordnet to\n",
      "[nltk_data]     C:\\Users\\PF3KK\\AppData\\Roaming\\nltk_data...\n",
      "[nltk_data]   Package wordnet is already up-to-date!\n",
      "[nltk_data] Downloading package omw-1.4 to\n",
      "[nltk_data]     C:\\Users\\PF3KK\\AppData\\Roaming\\nltk_data...\n",
      "[nltk_data]   Package omw-1.4 is already up-to-date!\n"
     ]
    }
   ],
   "source": [
    "import pandas as pd\n",
    "import numpy as np\n",
    "import re\n",
    "import string\n",
    "import nltk\n",
    "import matplotlib.pyplot as plt\n",
    "import csv\n",
    "import sys\n",
    "\n",
    "nltk.download('stopwords')\n",
    "nltk.download ('words')\n",
    "nltk.download('wordnet')\n",
    "nltk.download('omw-1.4')\n",
    "\n",
    "from nltk.stem.snowball import SnowballStemmer\n",
    "from nltk.tokenize import word_tokenize\n",
    "from nltk.stem.wordnet import WordNetLemmatizer\n",
    "from nltk.corpus import stopwords\n",
    "\n",
    "from sklearn.feature_extraction.text import TfidfVectorizer\n",
    "from sklearn.linear_model import LogisticRegression\n",
    "from sklearn.model_selection import train_test_split\n",
    "from sklearn.metrics import confusion_matrix, classification_report\n",
    "from sklearn.feature_extraction.text import CountVectorizer\n",
    "\n",
    "from wordcloud import WordCloud, STOPWORDS\n",
    "\n",
    "words = set(nltk.corpus.words.words())\n",
    "stopwords = set(stopwords.words('english'))\n",
    "stopwordsUpdated = set(STOPWORDS)\n",
    "\n",
    "from Sastrawi.Stemmer.StemmerFactory import StemmerFactory\n",
    "import string, unicodedata\n",
    "if not sys.warnoptions:\n",
    "    import warnings\n",
    "    warnings.simplefilter(\"ignore\")"
   ]
  },
  {
   "cell_type": "markdown",
   "id": "628dee34",
   "metadata": {
    "id": "628dee34"
   },
   "source": [
    "## C. Data Loading"
   ]
  },
  {
   "cell_type": "code",
   "execution_count": 5,
   "id": "796b9d21",
   "metadata": {
    "colab": {
     "base_uri": "https://localhost:8080/",
     "height": 423
    },
    "id": "796b9d21",
    "outputId": "8d174326-a9cc-4be5-942f-eaef784f382e"
   },
   "outputs": [
    {
     "data": {
      "text/html": [
       "<div>\n",
       "<style scoped>\n",
       "    .dataframe tbody tr th:only-of-type {\n",
       "        vertical-align: middle;\n",
       "    }\n",
       "\n",
       "    .dataframe tbody tr th {\n",
       "        vertical-align: top;\n",
       "    }\n",
       "\n",
       "    .dataframe thead th {\n",
       "        text-align: right;\n",
       "    }\n",
       "</style>\n",
       "<table border=\"1\" class=\"dataframe\">\n",
       "  <thead>\n",
       "    <tr style=\"text-align: right;\">\n",
       "      <th></th>\n",
       "      <th>label</th>\n",
       "      <th>text</th>\n",
       "    </tr>\n",
       "  </thead>\n",
       "  <tbody>\n",
       "    <tr>\n",
       "      <th>0</th>\n",
       "      <td>5</td>\n",
       "      <td>Was pleasantly surprised with the same night d...</td>\n",
       "    </tr>\n",
       "    <tr>\n",
       "      <th>1</th>\n",
       "      <td>5</td>\n",
       "      <td>This is the cheapest Authentic cricut I can fi...</td>\n",
       "    </tr>\n",
       "    <tr>\n",
       "      <th>2</th>\n",
       "      <td>5</td>\n",
       "      <td>Love the material and worth the price! Can't w...</td>\n",
       "    </tr>\n",
       "    <tr>\n",
       "      <th>3</th>\n",
       "      <td>5</td>\n",
       "      <td>Very fast delivery.  Easily assembled and stur...</td>\n",
       "    </tr>\n",
       "    <tr>\n",
       "      <th>4</th>\n",
       "      <td>2</td>\n",
       "      <td>The ink is quite faint ....</td>\n",
       "    </tr>\n",
       "  </tbody>\n",
       "</table>\n",
       "</div>"
      ],
      "text/plain": [
       "   label                                               text\n",
       "0      5  Was pleasantly surprised with the same night d...\n",
       "1      5  This is the cheapest Authentic cricut I can fi...\n",
       "2      5  Love the material and worth the price! Can't w...\n",
       "3      5  Very fast delivery.  Easily assembled and stur...\n",
       "4      2                       The ink is quite faint .... "
      ]
     },
     "execution_count": 5,
     "metadata": {},
     "output_type": "execute_result"
    }
   ],
   "source": [
    "# Membaca file\n",
    "df = pd.read_csv('shopee.csv')\n",
    "\n",
    "# Membuka file\n",
    "df.head()"
   ]
  },
  {
   "cell_type": "code",
   "execution_count": 6,
   "id": "c14c872a",
   "metadata": {
    "colab": {
     "base_uri": "https://localhost:8080/"
    },
    "id": "c14c872a",
    "outputId": "22e2b552-f185-471f-a9f5-a23750de2725"
   },
   "outputs": [
    {
     "data": {
      "text/plain": [
       "(10000, 2)"
      ]
     },
     "execution_count": 6,
     "metadata": {},
     "output_type": "execute_result"
    }
   ],
   "source": [
    "# Mengetahui jumlah data dan kolom\n",
    "df.shape"
   ]
  },
  {
   "cell_type": "markdown",
   "id": "e82ecadf",
   "metadata": {},
   "source": [
    "Berdasarkan output di atas, dapat diketahui bahwa pada data ini terdapat 10000 baris data dan 2 kolom"
   ]
  },
  {
   "cell_type": "code",
   "execution_count": 7,
   "id": "b0d2b850",
   "metadata": {},
   "outputs": [
    {
     "data": {
      "text/plain": [
       "label     int64\n",
       "text     object\n",
       "dtype: object"
      ]
     },
     "execution_count": 7,
     "metadata": {},
     "output_type": "execute_result"
    }
   ],
   "source": [
    "# Mengetahui type data\n",
    "df.dtypes"
   ]
  },
  {
   "cell_type": "code",
   "execution_count": 8,
   "id": "3265999b",
   "metadata": {},
   "outputs": [
    {
     "data": {
      "text/plain": [
       "array([5, 2, 4, 3, 1], dtype=int64)"
      ]
     },
     "execution_count": 8,
     "metadata": {},
     "output_type": "execute_result"
    }
   ],
   "source": [
    "# Mengetahui nilai unik kolom label\n",
    "unique_values = df['label'].unique()\n",
    "unique_values"
   ]
  },
  {
   "cell_type": "markdown",
   "id": "26da54a9",
   "metadata": {},
   "source": [
    "Dari kolom 'label' diketahui type data yaitu integer, disini terdapat 5 nilai yang menunjukkan rating dari pengalaman pengguna menggunakan aplikasi shopee"
   ]
  },
  {
   "cell_type": "code",
   "execution_count": 9,
   "id": "1c42551f",
   "metadata": {},
   "outputs": [
    {
     "data": {
      "text/plain": [
       "array(['Was pleasantly surprised with the same night delivery. Thk you seller.\\n\\nEach box comes with 2 masks and a packet of filters. (Picture shows 1 per box as my kids wearing the other 1). Fits well and are comfortable. The filter inserts doing its job to protect my children. Will definitely order more. ',\n",
       "       'This is the cheapest Authentic cricut I can find online. Even cheaper than overseas. Highly recommended. Most importantly, the customer service of the seller is superb. Really won’t go wrong purchasing from them. 👍🏻👍🏻',\n",
       "       \"Love the material and worth the price! Can't wait to put on my baby!\",\n",
       "       ..., 'Game received. Able to login and play. ',\n",
       "       'i feel like it’d be better if we can choose the designs and not given by random cos i didn’t like this design LOLLLLL sigh but that’s fine. fast delivery! (:',\n",
       "       'Bought from the seller for a 2nd time because they missed out 1 item from my previous order.. was told that the missed out item will be shipped out with this order but it was still missed out again.. no issue with product that i ordered but only issue with seller'],\n",
       "      dtype=object)"
      ]
     },
     "execution_count": 9,
     "metadata": {},
     "output_type": "execute_result"
    }
   ],
   "source": [
    "# Mengetahui nilai unik kolom text\n",
    "unique_value = df['text'].unique()\n",
    "unique_value"
   ]
  },
  {
   "cell_type": "markdown",
   "id": "656e567c",
   "metadata": {},
   "source": [
    "Dari kolom 'text' diketahui type data yaitu object, berisi ulasan pengguna yang menggunakan aplikasi shopee"
   ]
  },
  {
   "cell_type": "markdown",
   "id": "d954cff3",
   "metadata": {
    "id": "d954cff3"
   },
   "source": [
    "## D. Exploratory Data Analysis (EDA)"
   ]
  },
  {
   "cell_type": "code",
   "execution_count": 10,
   "id": "7858cb1d",
   "metadata": {
    "colab": {
     "base_uri": "https://localhost:8080/"
    },
    "id": "7858cb1d",
    "outputId": "a74ff1d6-c0ed-4fc4-d298-8b7fb6da4822"
   },
   "outputs": [
    {
     "data": {
      "text/plain": [
       "5    8737\n",
       "4     656\n",
       "3     296\n",
       "1     185\n",
       "2     126\n",
       "Name: label, dtype: int64"
      ]
     },
     "execution_count": 10,
     "metadata": {},
     "output_type": "execute_result"
    }
   ],
   "source": [
    "# Mengetahui jumlah data kolom label\n",
    "df['label'].value_counts()"
   ]
  },
  {
   "cell_type": "code",
   "execution_count": 11,
   "id": "58c6fb17",
   "metadata": {
    "colab": {
     "base_uri": "https://localhost:8080/",
     "height": 607
    },
    "id": "58c6fb17",
    "outputId": "8fc635de-8d73-4d93-9fce-676077a4ff21"
   },
   "outputs": [
    {
     "data": {
      "image/png": "[encoded data removed]",
      "text/plain": [
       "<Figure size 504x432 with 1 Axes>"
      ]
     },
     "metadata": {
      "needs_background": "light"
     },
     "output_type": "display_data"
    }
   ],
   "source": [
    "# Visualisasi data kolom label\n",
    "import matplotlib.pyplot as plt\n",
    "\n",
    "_, ax1 = plt.subplots(figsize=(7,6))\n",
    "stars_histogram = df['label'].value_counts().sort_index()\n",
    "stars_histogram.plot(kind='bar', width=0.7, color='black')\n",
    "plt.xlabel('rating')\n",
    "plt.ylabel('jumlah review')\n",
    "\n",
    "plt.tight_layout()\n",
    "plt.show()"
   ]
  },
  {
   "cell_type": "markdown",
   "id": "076d2ed2",
   "metadata": {},
   "source": [
    "Berdasarkan gambar di atas, dapat kita ketahui jumlah dari masing-masing rating yang diisi pelanggan pengguna aplikasi shopee yaitu:\n",
    "- bintang 1 sebanyak 185 pengguna\n",
    "- bintang 2 sebanyak 126 pengguna\n",
    "- bintang 3 sebanyak 296 pengguna\n",
    "- bintang 4 sebanyak 656 pengguna\n",
    "- bintang 5 sebanyak 8737 pengguna"
   ]
  },
  {
   "cell_type": "code",
   "execution_count": 12,
   "id": "e64bc576",
   "metadata": {},
   "outputs": [
    {
     "data": {
      "image/png": "[encoded data removed]",
      "text/plain": [
       "<Figure size 720x360 with 1 Axes>"
      ]
     },
     "metadata": {
      "needs_background": "light"
     },
     "output_type": "display_data"
    }
   ],
   "source": [
    "# Visualisasi wordcloud\n",
    "text = ' '.join(df['text'])\n",
    "wordcloud = WordCloud(width=800, height=400, background_color='white').generate(text)\n",
    "\n",
    "# Menampilkan word cloud\n",
    "plt.figure(figsize=(10, 5))\n",
    "plt.imshow(wordcloud, interpolation='bilinear')\n",
    "plt.axis('off')\n",
    "plt.show()"
   ]
  },
  {
   "cell_type": "markdown",
   "id": "b67c365d",
   "metadata": {},
   "source": [
    "Berdasarkan gambar di atas dapat diketahui ulasan pengguna paling banyak mengatakan bahwa barang yang diterima dengan cepat, barang dalam kondisi baik, diterima dengan baik dan berterima kasih pada penjual"
   ]
  },
  {
   "cell_type": "markdown",
   "id": "b01f60bb",
   "metadata": {
    "id": "b01f60bb"
   },
   "source": [
    "## E. Text Pre-processing"
   ]
  },
  {
   "cell_type": "markdown",
   "id": "216f568a",
   "metadata": {
    "id": "216f568a"
   },
   "source": [
    "### Cek Data Duplikat\n",
    "\n",
    "Tahap ini akan mengidentifikasi dan menghapus duplikasi data dalam dataset. Duplikasi dapat mengganggu analisis dan menghasilkan bias dalam model yang dibangun"
   ]
  },
  {
   "cell_type": "code",
   "execution_count": 13,
   "id": "0db803e5",
   "metadata": {},
   "outputs": [
    {
     "data": {
      "text/plain": [
       "0       False\n",
       "1       False\n",
       "2       False\n",
       "3       False\n",
       "4       False\n",
       "        ...  \n",
       "9995    False\n",
       "9996    False\n",
       "9997    False\n",
       "9998    False\n",
       "9999    False\n",
       "Length: 10000, dtype: bool"
      ]
     },
     "execution_count": 13,
     "metadata": {},
     "output_type": "execute_result"
    }
   ],
   "source": [
    "# Mengetahui apakah terdapat duplikasi data dalam dataset\n",
    "df.duplicated()"
   ]
  },
  {
   "cell_type": "code",
   "execution_count": 14,
   "id": "1cf39d50",
   "metadata": {
    "colab": {
     "base_uri": "https://localhost:8080/",
     "height": 423
    },
    "id": "1cf39d50",
    "outputId": "4f0d63ce-846c-4bb2-f8d5-991b8d67361d"
   },
   "outputs": [
    {
     "data": {
      "text/html": [
       "<div>\n",
       "<style scoped>\n",
       "    .dataframe tbody tr th:only-of-type {\n",
       "        vertical-align: middle;\n",
       "    }\n",
       "\n",
       "    .dataframe tbody tr th {\n",
       "        vertical-align: top;\n",
       "    }\n",
       "\n",
       "    .dataframe thead th {\n",
       "        text-align: right;\n",
       "    }\n",
       "</style>\n",
       "<table border=\"1\" class=\"dataframe\">\n",
       "  <thead>\n",
       "    <tr style=\"text-align: right;\">\n",
       "      <th></th>\n",
       "      <th>label</th>\n",
       "      <th>text</th>\n",
       "    </tr>\n",
       "  </thead>\n",
       "  <tbody>\n",
       "    <tr>\n",
       "      <th>0</th>\n",
       "      <td>5</td>\n",
       "      <td>Was pleasantly surprised with the same night d...</td>\n",
       "    </tr>\n",
       "    <tr>\n",
       "      <th>1</th>\n",
       "      <td>5</td>\n",
       "      <td>This is the cheapest Authentic cricut I can fi...</td>\n",
       "    </tr>\n",
       "    <tr>\n",
       "      <th>2</th>\n",
       "      <td>5</td>\n",
       "      <td>Love the material and worth the price! Can't w...</td>\n",
       "    </tr>\n",
       "    <tr>\n",
       "      <th>3</th>\n",
       "      <td>5</td>\n",
       "      <td>Very fast delivery.  Easily assembled and stur...</td>\n",
       "    </tr>\n",
       "    <tr>\n",
       "      <th>4</th>\n",
       "      <td>2</td>\n",
       "      <td>The ink is quite faint ....</td>\n",
       "    </tr>\n",
       "    <tr>\n",
       "      <th>...</th>\n",
       "      <td>...</td>\n",
       "      <td>...</td>\n",
       "    </tr>\n",
       "    <tr>\n",
       "      <th>9995</th>\n",
       "      <td>4</td>\n",
       "      <td>Item arrived prominently. Comfortable to wear ...</td>\n",
       "    </tr>\n",
       "    <tr>\n",
       "      <th>9996</th>\n",
       "      <td>5</td>\n",
       "      <td>Only downfall, pointed side has no function</td>\n",
       "    </tr>\n",
       "    <tr>\n",
       "      <th>9997</th>\n",
       "      <td>5</td>\n",
       "      <td>Game received. Able to login and play.</td>\n",
       "    </tr>\n",
       "    <tr>\n",
       "      <th>9998</th>\n",
       "      <td>3</td>\n",
       "      <td>i feel like it’d be better if we can choose th...</td>\n",
       "    </tr>\n",
       "    <tr>\n",
       "      <th>9999</th>\n",
       "      <td>1</td>\n",
       "      <td>Bought from the seller for a 2nd time because ...</td>\n",
       "    </tr>\n",
       "  </tbody>\n",
       "</table>\n",
       "<p>10000 rows × 2 columns</p>\n",
       "</div>"
      ],
      "text/plain": [
       "      label                                               text\n",
       "0         5  Was pleasantly surprised with the same night d...\n",
       "1         5  This is the cheapest Authentic cricut I can fi...\n",
       "2         5  Love the material and worth the price! Can't w...\n",
       "3         5  Very fast delivery.  Easily assembled and stur...\n",
       "4         2                       The ink is quite faint .... \n",
       "...     ...                                                ...\n",
       "9995      4  Item arrived prominently. Comfortable to wear ...\n",
       "9996      5        Only downfall, pointed side has no function\n",
       "9997      5            Game received. Able to login and play. \n",
       "9998      3  i feel like it’d be better if we can choose th...\n",
       "9999      1  Bought from the seller for a 2nd time because ...\n",
       "\n",
       "[10000 rows x 2 columns]"
      ]
     },
     "execution_count": 14,
     "metadata": {},
     "output_type": "execute_result"
    }
   ],
   "source": [
    "# Menghapus duplikasi\n",
    "df['text'] = df['text'].drop_duplicates()\n",
    "df_new = df.dropna()\n",
    "df_new = df_new.reset_index(drop=True)\n",
    "df_new"
   ]
  },
  {
   "cell_type": "markdown",
   "id": "e6f6dc88",
   "metadata": {},
   "source": [
    "Diketahui bahwa data ini tidak terdapat duplikasi"
   ]
  },
  {
   "cell_type": "markdown",
   "id": "919aa499",
   "metadata": {
    "id": "919aa499"
   },
   "source": [
    "### Case folding dan cleaning data\n",
    "\n",
    "Pada tahap case folding cleaning data melibatkan langkah-langkah untuk membersihkan data dari karakter atau format yang tidak diinginkan, ini termasuk menghapus tanda baca, karakter khusus, atau simbol yang tidak relevan yang akan mengganggu analisis. Pada tahap ini juga akan mengubah semua teks menjadi huruf kecil sehingga tidak ada perbedaan dalam pemrosesan berdasarkan huruf besar atau kecil."
   ]
  },
  {
   "cell_type": "code",
   "execution_count": 15,
   "id": "6aad02ba",
   "metadata": {
    "id": "6aad02ba"
   },
   "outputs": [],
   "source": [
    "# Melakukan Case folding\n",
    "def Case_Folding(text):\n",
    "    # Menghapus link\n",
    "    text = re.sub(r'''(?i)\\b((?:https?://|www\\d{0,3}[.]|[a-z0-9.\\-]+[.][a-z]{2,4}/)(?:[^\\s()<>]+|\\(([^\\s()<>]+|(\\([^\\s()<>]+\\)))*\\))+(?:\\(([^\\s()<>]+|(\\([^\\s()<>]+\\)))*\\)|[^\\s`!()\\[\\]{};:'\".,<>?«»“”‘’]))''', \" \", text)\n",
    "\n",
    "    # Menghapus Tanda Baca\n",
    "    text = re.sub('[!”#$%&’()*+,-./:;<=>?@[\\]^_`{|}~]', '', text)\n",
    "\n",
    "    # Hapus non-ascii\n",
    "    text = unicodedata.normalize('NFKD', text).encode('ascii', 'ignore').decode('utf-8', 'ignore')\n",
    "\n",
    "    # Menghapus Angka\n",
    "    text = re.sub(\"\\S*\\d\\S*\", \"\", text).strip()\n",
    "    text = re.sub(r\"\\b\\d+\\b\", \" \", text)\n",
    "\n",
    "    # Mengubah text menjadi lowercase\n",
    "    text = text.lower()\n",
    "\n",
    "    # Menghapus spasi yang lebih dari satu\n",
    "    text = re.sub('[\\s]+', ' ', text)\n",
    "\n",
    "    # Menghapus karakter yang tidak penting\n",
    "    text = re.sub(r'[^a-zA-Z0-9 ]', r'', text)\n",
    "\n",
    "    # Menghapus baris baru (enter) dengan spasi\n",
    "    text = re.sub(\"\\n\", \" \", text)\n",
    "\n",
    "    # Menghapus link dengan pattern http/https\n",
    "    text = re.sub(r'http\\S+', '', text)\n",
    "\n",
    "    # Menghapus link dengan pattern www\n",
    "    text = re.sub('(@\\w+|#\\w+)', '', text)\n",
    "\n",
    "    # Menghapus huruf tunggal\n",
    "    text = re.sub(r'\\b[a-zA-Z]\\b', '', text)\n",
    "\n",
    "    return text"
   ]
  },
  {
   "cell_type": "code",
   "execution_count": 16,
   "id": "d8d382d3",
   "metadata": {
    "colab": {
     "base_uri": "https://localhost:8080/",
     "height": 206
    },
    "id": "d8d382d3",
    "outputId": "d6f066ee-3426-4355-f46d-8ac118a6f7cb",
    "scrolled": false
   },
   "outputs": [
    {
     "data": {
      "text/html": [
       "<div>\n",
       "<style scoped>\n",
       "    .dataframe tbody tr th:only-of-type {\n",
       "        vertical-align: middle;\n",
       "    }\n",
       "\n",
       "    .dataframe tbody tr th {\n",
       "        vertical-align: top;\n",
       "    }\n",
       "\n",
       "    .dataframe thead th {\n",
       "        text-align: right;\n",
       "    }\n",
       "</style>\n",
       "<table border=\"1\" class=\"dataframe\">\n",
       "  <thead>\n",
       "    <tr style=\"text-align: right;\">\n",
       "      <th></th>\n",
       "      <th>label</th>\n",
       "      <th>text</th>\n",
       "      <th>cleaning</th>\n",
       "    </tr>\n",
       "  </thead>\n",
       "  <tbody>\n",
       "    <tr>\n",
       "      <th>0</th>\n",
       "      <td>5</td>\n",
       "      <td>Was pleasantly surprised with the same night d...</td>\n",
       "      <td>was pleasantly surprised with the same night d...</td>\n",
       "    </tr>\n",
       "    <tr>\n",
       "      <th>1</th>\n",
       "      <td>5</td>\n",
       "      <td>This is the cheapest Authentic cricut I can fi...</td>\n",
       "      <td>this is the cheapest authentic cricut  can fin...</td>\n",
       "    </tr>\n",
       "    <tr>\n",
       "      <th>2</th>\n",
       "      <td>5</td>\n",
       "      <td>Love the material and worth the price! Can't w...</td>\n",
       "      <td>love the material and worth the price cant wai...</td>\n",
       "    </tr>\n",
       "    <tr>\n",
       "      <th>3</th>\n",
       "      <td>5</td>\n",
       "      <td>Very fast delivery.  Easily assembled and stur...</td>\n",
       "      <td>very fast delivery easily assembled and sturdy...</td>\n",
       "    </tr>\n",
       "    <tr>\n",
       "      <th>4</th>\n",
       "      <td>2</td>\n",
       "      <td>The ink is quite faint ....</td>\n",
       "      <td>the ink is quite faint</td>\n",
       "    </tr>\n",
       "  </tbody>\n",
       "</table>\n",
       "</div>"
      ],
      "text/plain": [
       "   label                                               text  \\\n",
       "0      5  Was pleasantly surprised with the same night d...   \n",
       "1      5  This is the cheapest Authentic cricut I can fi...   \n",
       "2      5  Love the material and worth the price! Can't w...   \n",
       "3      5  Very fast delivery.  Easily assembled and stur...   \n",
       "4      2                       The ink is quite faint ....    \n",
       "\n",
       "                                            cleaning  \n",
       "0  was pleasantly surprised with the same night d...  \n",
       "1  this is the cheapest authentic cricut  can fin...  \n",
       "2  love the material and worth the price cant wai...  \n",
       "3  very fast delivery easily assembled and sturdy...  \n",
       "4                             the ink is quite faint  "
      ]
     },
     "execution_count": 16,
     "metadata": {},
     "output_type": "execute_result"
    }
   ],
   "source": [
    "# Melakukan cleaning data\n",
    "df_new['cleaning'] = df_new['text'].apply(Case_Folding)\n",
    "df_new.head()"
   ]
  },
  {
   "cell_type": "markdown",
   "id": "09a63c02",
   "metadata": {
    "id": "09a63c02"
   },
   "source": [
    "### Remove meaningless words"
   ]
  },
  {
   "cell_type": "code",
   "execution_count": 17,
   "id": "57262fcb",
   "metadata": {
    "colab": {
     "base_uri": "https://localhost:8080/",
     "height": 206
    },
    "id": "57262fcb",
    "outputId": "cf1c2337-b4e4-4172-cd4a-ccc5b54f2859"
   },
   "outputs": [
    {
     "data": {
      "text/html": [
       "<div>\n",
       "<style scoped>\n",
       "    .dataframe tbody tr th:only-of-type {\n",
       "        vertical-align: middle;\n",
       "    }\n",
       "\n",
       "    .dataframe tbody tr th {\n",
       "        vertical-align: top;\n",
       "    }\n",
       "\n",
       "    .dataframe thead th {\n",
       "        text-align: right;\n",
       "    }\n",
       "</style>\n",
       "<table border=\"1\" class=\"dataframe\">\n",
       "  <thead>\n",
       "    <tr style=\"text-align: right;\">\n",
       "      <th></th>\n",
       "      <th>label</th>\n",
       "      <th>text</th>\n",
       "      <th>cleaning</th>\n",
       "      <th>meaningless</th>\n",
       "    </tr>\n",
       "  </thead>\n",
       "  <tbody>\n",
       "    <tr>\n",
       "      <th>0</th>\n",
       "      <td>5</td>\n",
       "      <td>Was pleasantly surprised with the same night d...</td>\n",
       "      <td>was pleasantly surprised with the same night d...</td>\n",
       "      <td>was pleasantly with the same night delivery yo...</td>\n",
       "    </tr>\n",
       "    <tr>\n",
       "      <th>1</th>\n",
       "      <td>5</td>\n",
       "      <td>This is the cheapest Authentic cricut I can fi...</td>\n",
       "      <td>this is the cheapest authentic cricut  can fin...</td>\n",
       "      <td>this is the authentic can find even than overs...</td>\n",
       "    </tr>\n",
       "    <tr>\n",
       "      <th>2</th>\n",
       "      <td>5</td>\n",
       "      <td>Love the material and worth the price! Can't w...</td>\n",
       "      <td>love the material and worth the price cant wai...</td>\n",
       "      <td>love the material and worth the price cant wai...</td>\n",
       "    </tr>\n",
       "    <tr>\n",
       "      <th>3</th>\n",
       "      <td>5</td>\n",
       "      <td>Very fast delivery.  Easily assembled and stur...</td>\n",
       "      <td>very fast delivery easily assembled and sturdy...</td>\n",
       "      <td>very fast delivery easily and sturdy its just ...</td>\n",
       "    </tr>\n",
       "    <tr>\n",
       "      <th>4</th>\n",
       "      <td>2</td>\n",
       "      <td>The ink is quite faint ....</td>\n",
       "      <td>the ink is quite faint</td>\n",
       "      <td>the ink is quite faint</td>\n",
       "    </tr>\n",
       "  </tbody>\n",
       "</table>\n",
       "</div>"
      ],
      "text/plain": [
       "   label                                               text  \\\n",
       "0      5  Was pleasantly surprised with the same night d...   \n",
       "1      5  This is the cheapest Authentic cricut I can fi...   \n",
       "2      5  Love the material and worth the price! Can't w...   \n",
       "3      5  Very fast delivery.  Easily assembled and stur...   \n",
       "4      2                       The ink is quite faint ....    \n",
       "\n",
       "                                            cleaning  \\\n",
       "0  was pleasantly surprised with the same night d...   \n",
       "1  this is the cheapest authentic cricut  can fin...   \n",
       "2  love the material and worth the price cant wai...   \n",
       "3  very fast delivery easily assembled and sturdy...   \n",
       "4                             the ink is quite faint   \n",
       "\n",
       "                                         meaningless  \n",
       "0  was pleasantly with the same night delivery yo...  \n",
       "1  this is the authentic can find even than overs...  \n",
       "2  love the material and worth the price cant wai...  \n",
       "3  very fast delivery easily and sturdy its just ...  \n",
       "4                             the ink is quite faint  "
      ]
     },
     "execution_count": 17,
     "metadata": {},
     "output_type": "execute_result"
    }
   ],
   "source": [
    "# Menghapus kata-kata yang tidak terdaftar di abjad\n",
    "def remove_meaningless(text):\n",
    "  clean_meaningless = \" \".join(u for u in nltk.wordpunct_tokenize(text) if u in words or not u.isalpha())\n",
    "  return clean_meaningless\n",
    "\n",
    "df_new['meaningless'] = df_new['cleaning'].apply(remove_meaningless)\n",
    "\n",
    "df_new.head()"
   ]
  },
  {
   "cell_type": "markdown",
   "id": "c313f88d",
   "metadata": {
    "id": "c313f88d"
   },
   "source": [
    "### Remove stopwords"
   ]
  },
  {
   "cell_type": "code",
   "execution_count": 18,
   "id": "a65e1a0e",
   "metadata": {
    "colab": {
     "base_uri": "https://localhost:8080/",
     "height": 319
    },
    "id": "a65e1a0e",
    "outputId": "a2c5dd40-a39b-46ca-885b-0dd4790bd42e"
   },
   "outputs": [
    {
     "data": {
      "text/html": [
       "<div>\n",
       "<style scoped>\n",
       "    .dataframe tbody tr th:only-of-type {\n",
       "        vertical-align: middle;\n",
       "    }\n",
       "\n",
       "    .dataframe tbody tr th {\n",
       "        vertical-align: top;\n",
       "    }\n",
       "\n",
       "    .dataframe thead th {\n",
       "        text-align: right;\n",
       "    }\n",
       "</style>\n",
       "<table border=\"1\" class=\"dataframe\">\n",
       "  <thead>\n",
       "    <tr style=\"text-align: right;\">\n",
       "      <th></th>\n",
       "      <th>label</th>\n",
       "      <th>text</th>\n",
       "      <th>cleaning</th>\n",
       "      <th>meaningless</th>\n",
       "      <th>stopwords</th>\n",
       "    </tr>\n",
       "  </thead>\n",
       "  <tbody>\n",
       "    <tr>\n",
       "      <th>0</th>\n",
       "      <td>5</td>\n",
       "      <td>Was pleasantly surprised with the same night d...</td>\n",
       "      <td>was pleasantly surprised with the same night d...</td>\n",
       "      <td>was pleasantly with the same night delivery yo...</td>\n",
       "      <td>pleasantly night delivery seller box comes pac...</td>\n",
       "    </tr>\n",
       "    <tr>\n",
       "      <th>1</th>\n",
       "      <td>5</td>\n",
       "      <td>This is the cheapest Authentic cricut I can fi...</td>\n",
       "      <td>this is the cheapest authentic cricut  can fin...</td>\n",
       "      <td>this is the authentic can find even than overs...</td>\n",
       "      <td>authentic find even overseas highly importantl...</td>\n",
       "    </tr>\n",
       "    <tr>\n",
       "      <th>2</th>\n",
       "      <td>5</td>\n",
       "      <td>Love the material and worth the price! Can't w...</td>\n",
       "      <td>love the material and worth the price cant wai...</td>\n",
       "      <td>love the material and worth the price cant wai...</td>\n",
       "      <td>love material worth price cant wait put baby</td>\n",
       "    </tr>\n",
       "    <tr>\n",
       "      <th>3</th>\n",
       "      <td>5</td>\n",
       "      <td>Very fast delivery.  Easily assembled and stur...</td>\n",
       "      <td>very fast delivery easily assembled and sturdy...</td>\n",
       "      <td>very fast delivery easily and sturdy its just ...</td>\n",
       "      <td>fast delivery easily sturdy right size file sa...</td>\n",
       "    </tr>\n",
       "    <tr>\n",
       "      <th>4</th>\n",
       "      <td>2</td>\n",
       "      <td>The ink is quite faint ....</td>\n",
       "      <td>the ink is quite faint</td>\n",
       "      <td>the ink is quite faint</td>\n",
       "      <td>ink quite faint</td>\n",
       "    </tr>\n",
       "  </tbody>\n",
       "</table>\n",
       "</div>"
      ],
      "text/plain": [
       "   label                                               text  \\\n",
       "0      5  Was pleasantly surprised with the same night d...   \n",
       "1      5  This is the cheapest Authentic cricut I can fi...   \n",
       "2      5  Love the material and worth the price! Can't w...   \n",
       "3      5  Very fast delivery.  Easily assembled and stur...   \n",
       "4      2                       The ink is quite faint ....    \n",
       "\n",
       "                                            cleaning  \\\n",
       "0  was pleasantly surprised with the same night d...   \n",
       "1  this is the cheapest authentic cricut  can fin...   \n",
       "2  love the material and worth the price cant wai...   \n",
       "3  very fast delivery easily assembled and sturdy...   \n",
       "4                             the ink is quite faint   \n",
       "\n",
       "                                         meaningless  \\\n",
       "0  was pleasantly with the same night delivery yo...   \n",
       "1  this is the authentic can find even than overs...   \n",
       "2  love the material and worth the price cant wai...   \n",
       "3  very fast delivery easily and sturdy its just ...   \n",
       "4                             the ink is quite faint   \n",
       "\n",
       "                                           stopwords  \n",
       "0  pleasantly night delivery seller box comes pac...  \n",
       "1  authentic find even overseas highly importantl...  \n",
       "2       love material worth price cant wait put baby  \n",
       "3  fast delivery easily sturdy right size file sa...  \n",
       "4                                    ink quite faint  "
      ]
     },
     "execution_count": 18,
     "metadata": {},
     "output_type": "execute_result"
    }
   ],
   "source": [
    "# Menghapus kata-kata yang tidak penting\n",
    "df_new['stopwords'] = df_new['meaningless'].apply(lambda x: ' '.join([word for word in x.split() if word not in (stopwords)]))\n",
    "\n",
    "df_new.head()"
   ]
  },
  {
   "cell_type": "markdown",
   "id": "wF5KWSqumfqY",
   "metadata": {
    "id": "wF5KWSqumfqY"
   },
   "source": [
    "### Lemmatizing\n",
    "\n",
    "Tahap lemmatizing akan mengubah kata-kata menjadi bentuk dasat mereka atau kata dasar"
   ]
  },
  {
   "cell_type": "code",
   "execution_count": 19,
   "id": "1L4US0Rqs1NA",
   "metadata": {
    "colab": {
     "base_uri": "https://localhost:8080/"
    },
    "id": "1L4US0Rqs1NA",
    "outputId": "44b56579-32ba-4f95-e625-a84415a40fc5"
   },
   "outputs": [
    {
     "name": "stderr",
     "output_type": "stream",
     "text": [
      "[nltk_data] Downloading package punkt to\n",
      "[nltk_data]     C:\\Users\\PF3KK\\AppData\\Roaming\\nltk_data...\n",
      "[nltk_data]   Package punkt is already up-to-date!\n"
     ]
    }
   ],
   "source": [
    "nltk.download('punkt')\n",
    "from nltk.tokenize import word_tokenize\n",
    "from nltk import FreqDist\n",
    "from nltk.stem import SnowballStemmer, WordNetLemmatizer\n",
    "\n",
    "stemmer = SnowballStemmer('english')\n",
    "lemma = WordNetLemmatizer()\n",
    "\n",
    "from string import punctuation"
   ]
  },
  {
   "cell_type": "code",
   "execution_count": 20,
   "id": "tNb8SPtcs444",
   "metadata": {
    "id": "tNb8SPtcs444"
   },
   "outputs": [],
   "source": [
    "def clean_review(review_col):\n",
    "    review_corpus=[]\n",
    "\n",
    "    for i in range(0, len(review_col)):\n",
    "        review = str(review_col[i])\n",
    "        review = re.sub('[^a-zA-Z]', ' ', review)\n",
    "        review = [lemma.lemmatize(w) for w in word_tokenize(str(review).lower())]\n",
    "        review = ' '.join(review)\n",
    "\n",
    "        review_corpus.append(review)\n",
    "\n",
    "    return review_corpus"
   ]
  },
  {
   "cell_type": "code",
   "execution_count": 21,
   "id": "1qFhPUyOs83p",
   "metadata": {
    "colab": {
     "base_uri": "https://localhost:8080/",
     "height": 319
    },
    "id": "1qFhPUyOs83p",
    "outputId": "2092fd87-0371-44fb-ab41-88e105c4502c"
   },
   "outputs": [
    {
     "data": {
      "text/html": [
       "<div>\n",
       "<style scoped>\n",
       "    .dataframe tbody tr th:only-of-type {\n",
       "        vertical-align: middle;\n",
       "    }\n",
       "\n",
       "    .dataframe tbody tr th {\n",
       "        vertical-align: top;\n",
       "    }\n",
       "\n",
       "    .dataframe thead th {\n",
       "        text-align: right;\n",
       "    }\n",
       "</style>\n",
       "<table border=\"1\" class=\"dataframe\">\n",
       "  <thead>\n",
       "    <tr style=\"text-align: right;\">\n",
       "      <th></th>\n",
       "      <th>label</th>\n",
       "      <th>text</th>\n",
       "      <th>cleaning</th>\n",
       "      <th>meaningless</th>\n",
       "      <th>stopwords</th>\n",
       "      <th>lemmatizing</th>\n",
       "    </tr>\n",
       "  </thead>\n",
       "  <tbody>\n",
       "    <tr>\n",
       "      <th>0</th>\n",
       "      <td>5</td>\n",
       "      <td>Was pleasantly surprised with the same night d...</td>\n",
       "      <td>was pleasantly surprised with the same night d...</td>\n",
       "      <td>was pleasantly with the same night delivery yo...</td>\n",
       "      <td>pleasantly night delivery seller box comes pac...</td>\n",
       "      <td>pleasantly night delivery seller box come pack...</td>\n",
       "    </tr>\n",
       "    <tr>\n",
       "      <th>1</th>\n",
       "      <td>5</td>\n",
       "      <td>This is the cheapest Authentic cricut I can fi...</td>\n",
       "      <td>this is the cheapest authentic cricut  can fin...</td>\n",
       "      <td>this is the authentic can find even than overs...</td>\n",
       "      <td>authentic find even overseas highly importantl...</td>\n",
       "      <td>authentic find even overseas highly importantl...</td>\n",
       "    </tr>\n",
       "    <tr>\n",
       "      <th>2</th>\n",
       "      <td>5</td>\n",
       "      <td>Love the material and worth the price! Can't w...</td>\n",
       "      <td>love the material and worth the price cant wai...</td>\n",
       "      <td>love the material and worth the price cant wai...</td>\n",
       "      <td>love material worth price cant wait put baby</td>\n",
       "      <td>love material worth price cant wait put baby</td>\n",
       "    </tr>\n",
       "    <tr>\n",
       "      <th>3</th>\n",
       "      <td>5</td>\n",
       "      <td>Very fast delivery.  Easily assembled and stur...</td>\n",
       "      <td>very fast delivery easily assembled and sturdy...</td>\n",
       "      <td>very fast delivery easily and sturdy its just ...</td>\n",
       "      <td>fast delivery easily sturdy right size file sa...</td>\n",
       "      <td>fast delivery easily sturdy right size file sa...</td>\n",
       "    </tr>\n",
       "    <tr>\n",
       "      <th>4</th>\n",
       "      <td>2</td>\n",
       "      <td>The ink is quite faint ....</td>\n",
       "      <td>the ink is quite faint</td>\n",
       "      <td>the ink is quite faint</td>\n",
       "      <td>ink quite faint</td>\n",
       "      <td>ink quite faint</td>\n",
       "    </tr>\n",
       "  </tbody>\n",
       "</table>\n",
       "</div>"
      ],
      "text/plain": [
       "   label                                               text  \\\n",
       "0      5  Was pleasantly surprised with the same night d...   \n",
       "1      5  This is the cheapest Authentic cricut I can fi...   \n",
       "2      5  Love the material and worth the price! Can't w...   \n",
       "3      5  Very fast delivery.  Easily assembled and stur...   \n",
       "4      2                       The ink is quite faint ....    \n",
       "\n",
       "                                            cleaning  \\\n",
       "0  was pleasantly surprised with the same night d...   \n",
       "1  this is the cheapest authentic cricut  can fin...   \n",
       "2  love the material and worth the price cant wai...   \n",
       "3  very fast delivery easily assembled and sturdy...   \n",
       "4                             the ink is quite faint   \n",
       "\n",
       "                                         meaningless  \\\n",
       "0  was pleasantly with the same night delivery yo...   \n",
       "1  this is the authentic can find even than overs...   \n",
       "2  love the material and worth the price cant wai...   \n",
       "3  very fast delivery easily and sturdy its just ...   \n",
       "4                             the ink is quite faint   \n",
       "\n",
       "                                           stopwords  \\\n",
       "0  pleasantly night delivery seller box comes pac...   \n",
       "1  authentic find even overseas highly importantl...   \n",
       "2       love material worth price cant wait put baby   \n",
       "3  fast delivery easily sturdy right size file sa...   \n",
       "4                                    ink quite faint   \n",
       "\n",
       "                                         lemmatizing  \n",
       "0  pleasantly night delivery seller box come pack...  \n",
       "1  authentic find even overseas highly importantl...  \n",
       "2       love material worth price cant wait put baby  \n",
       "3  fast delivery easily sturdy right size file sa...  \n",
       "4                                    ink quite faint  "
      ]
     },
     "execution_count": 21,
     "metadata": {},
     "output_type": "execute_result"
    }
   ],
   "source": [
    "df_new['lemmatizing'] = clean_review(df_new['stopwords'].values)\n",
    "df_new.head()"
   ]
  },
  {
   "cell_type": "markdown",
   "id": "uCV4aAJMoQkB",
   "metadata": {
    "id": "uCV4aAJMoQkB"
   },
   "source": [
    "### Remove missing value\n",
    "\n",
    "Pada tahap ini mengidentifikais dan menghapus data yang hilang atau kosong. Ini dapat dilakukan dengan menghapus baris atau kolom yang mengandung nilai yang hilang"
   ]
  },
  {
   "cell_type": "code",
   "execution_count": 22,
   "id": "8Aa1vXg4oUYp",
   "metadata": {
    "colab": {
     "base_uri": "https://localhost:8080/",
     "height": 728
    },
    "id": "8Aa1vXg4oUYp",
    "outputId": "e348d96c-e109-4ad6-8353-d35f47a08098"
   },
   "outputs": [
    {
     "data": {
      "text/html": [
       "<div>\n",
       "<style scoped>\n",
       "    .dataframe tbody tr th:only-of-type {\n",
       "        vertical-align: middle;\n",
       "    }\n",
       "\n",
       "    .dataframe tbody tr th {\n",
       "        vertical-align: top;\n",
       "    }\n",
       "\n",
       "    .dataframe thead th {\n",
       "        text-align: right;\n",
       "    }\n",
       "</style>\n",
       "<table border=\"1\" class=\"dataframe\">\n",
       "  <thead>\n",
       "    <tr style=\"text-align: right;\">\n",
       "      <th></th>\n",
       "      <th>label</th>\n",
       "      <th>text</th>\n",
       "      <th>cleaning</th>\n",
       "      <th>meaningless</th>\n",
       "      <th>stopwords</th>\n",
       "      <th>lemmatizing</th>\n",
       "      <th>clean</th>\n",
       "    </tr>\n",
       "  </thead>\n",
       "  <tbody>\n",
       "    <tr>\n",
       "      <th>0</th>\n",
       "      <td>5</td>\n",
       "      <td>Was pleasantly surprised with the same night d...</td>\n",
       "      <td>was pleasantly surprised with the same night d...</td>\n",
       "      <td>was pleasantly with the same night delivery yo...</td>\n",
       "      <td>pleasantly night delivery seller box comes pac...</td>\n",
       "      <td>pleasantly night delivery seller box come pack...</td>\n",
       "      <td>pleasantly night delivery seller box come pack...</td>\n",
       "    </tr>\n",
       "    <tr>\n",
       "      <th>1</th>\n",
       "      <td>5</td>\n",
       "      <td>This is the cheapest Authentic cricut I can fi...</td>\n",
       "      <td>this is the cheapest authentic cricut  can fin...</td>\n",
       "      <td>this is the authentic can find even than overs...</td>\n",
       "      <td>authentic find even overseas highly importantl...</td>\n",
       "      <td>authentic find even overseas highly importantl...</td>\n",
       "      <td>authentic find even overseas highly importantl...</td>\n",
       "    </tr>\n",
       "    <tr>\n",
       "      <th>2</th>\n",
       "      <td>5</td>\n",
       "      <td>Love the material and worth the price! Can't w...</td>\n",
       "      <td>love the material and worth the price cant wai...</td>\n",
       "      <td>love the material and worth the price cant wai...</td>\n",
       "      <td>love material worth price cant wait put baby</td>\n",
       "      <td>love material worth price cant wait put baby</td>\n",
       "      <td>love material worth price cant wait put baby</td>\n",
       "    </tr>\n",
       "    <tr>\n",
       "      <th>3</th>\n",
       "      <td>5</td>\n",
       "      <td>Very fast delivery.  Easily assembled and stur...</td>\n",
       "      <td>very fast delivery easily assembled and sturdy...</td>\n",
       "      <td>very fast delivery easily and sturdy its just ...</td>\n",
       "      <td>fast delivery easily sturdy right size file sa...</td>\n",
       "      <td>fast delivery easily sturdy right size file sa...</td>\n",
       "      <td>fast delivery easily sturdy right size file sa...</td>\n",
       "    </tr>\n",
       "    <tr>\n",
       "      <th>4</th>\n",
       "      <td>2</td>\n",
       "      <td>The ink is quite faint ....</td>\n",
       "      <td>the ink is quite faint</td>\n",
       "      <td>the ink is quite faint</td>\n",
       "      <td>ink quite faint</td>\n",
       "      <td>ink quite faint</td>\n",
       "      <td>ink quite faint</td>\n",
       "    </tr>\n",
       "    <tr>\n",
       "      <th>...</th>\n",
       "      <td>...</td>\n",
       "      <td>...</td>\n",
       "      <td>...</td>\n",
       "      <td>...</td>\n",
       "      <td>...</td>\n",
       "      <td>...</td>\n",
       "      <td>...</td>\n",
       "    </tr>\n",
       "    <tr>\n",
       "      <th>9607</th>\n",
       "      <td>4</td>\n",
       "      <td>Item arrived prominently. Comfortable to wear ...</td>\n",
       "      <td>item arrived prominently comfortable to wear t...</td>\n",
       "      <td>item prominently comfortable to wear the sizin...</td>\n",
       "      <td>item prominently comfortable wear sizing fine ...</td>\n",
       "      <td>item prominently comfortable wear sizing fine ...</td>\n",
       "      <td>item prominently comfortable wear sizing fine ...</td>\n",
       "    </tr>\n",
       "    <tr>\n",
       "      <th>9608</th>\n",
       "      <td>5</td>\n",
       "      <td>Only downfall, pointed side has no function</td>\n",
       "      <td>only downfall pointed side has no function</td>\n",
       "      <td>only downfall pointed side no function</td>\n",
       "      <td>downfall pointed side function</td>\n",
       "      <td>downfall pointed side function</td>\n",
       "      <td>downfall pointed side function</td>\n",
       "    </tr>\n",
       "    <tr>\n",
       "      <th>9609</th>\n",
       "      <td>5</td>\n",
       "      <td>Game received. Able to login and play.</td>\n",
       "      <td>game received able to login and play</td>\n",
       "      <td>game received able to login and play</td>\n",
       "      <td>game received able login play</td>\n",
       "      <td>game received able login play</td>\n",
       "      <td>game received able login play</td>\n",
       "    </tr>\n",
       "    <tr>\n",
       "      <th>9610</th>\n",
       "      <td>3</td>\n",
       "      <td>i feel like it’d be better if we can choose th...</td>\n",
       "      <td>feel like itd be better if we can choose the ...</td>\n",
       "      <td>feel like be better if we can choose the and n...</td>\n",
       "      <td>feel like better choose given random cos didnt...</td>\n",
       "      <td>feel like better choose given random co didnt ...</td>\n",
       "      <td>feel like better choose given random co didnt ...</td>\n",
       "    </tr>\n",
       "    <tr>\n",
       "      <th>9611</th>\n",
       "      <td>1</td>\n",
       "      <td>Bought from the seller for a 2nd time because ...</td>\n",
       "      <td>bought from the seller for  time because they ...</td>\n",
       "      <td>bought from the seller for time because they o...</td>\n",
       "      <td>bought seller time item previous order told it...</td>\n",
       "      <td>bought seller time item previous order told it...</td>\n",
       "      <td>bought seller time item previous order told it...</td>\n",
       "    </tr>\n",
       "  </tbody>\n",
       "</table>\n",
       "<p>9612 rows × 7 columns</p>\n",
       "</div>"
      ],
      "text/plain": [
       "      label                                               text  \\\n",
       "0         5  Was pleasantly surprised with the same night d...   \n",
       "1         5  This is the cheapest Authentic cricut I can fi...   \n",
       "2         5  Love the material and worth the price! Can't w...   \n",
       "3         5  Very fast delivery.  Easily assembled and stur...   \n",
       "4         2                       The ink is quite faint ....    \n",
       "...     ...                                                ...   \n",
       "9607      4  Item arrived prominently. Comfortable to wear ...   \n",
       "9608      5        Only downfall, pointed side has no function   \n",
       "9609      5            Game received. Able to login and play.    \n",
       "9610      3  i feel like it’d be better if we can choose th...   \n",
       "9611      1  Bought from the seller for a 2nd time because ...   \n",
       "\n",
       "                                               cleaning  \\\n",
       "0     was pleasantly surprised with the same night d...   \n",
       "1     this is the cheapest authentic cricut  can fin...   \n",
       "2     love the material and worth the price cant wai...   \n",
       "3     very fast delivery easily assembled and sturdy...   \n",
       "4                                the ink is quite faint   \n",
       "...                                                 ...   \n",
       "9607  item arrived prominently comfortable to wear t...   \n",
       "9608         only downfall pointed side has no function   \n",
       "9609               game received able to login and play   \n",
       "9610   feel like itd be better if we can choose the ...   \n",
       "9611  bought from the seller for  time because they ...   \n",
       "\n",
       "                                            meaningless  \\\n",
       "0     was pleasantly with the same night delivery yo...   \n",
       "1     this is the authentic can find even than overs...   \n",
       "2     love the material and worth the price cant wai...   \n",
       "3     very fast delivery easily and sturdy its just ...   \n",
       "4                                the ink is quite faint   \n",
       "...                                                 ...   \n",
       "9607  item prominently comfortable to wear the sizin...   \n",
       "9608             only downfall pointed side no function   \n",
       "9609               game received able to login and play   \n",
       "9610  feel like be better if we can choose the and n...   \n",
       "9611  bought from the seller for time because they o...   \n",
       "\n",
       "                                              stopwords  \\\n",
       "0     pleasantly night delivery seller box comes pac...   \n",
       "1     authentic find even overseas highly importantl...   \n",
       "2          love material worth price cant wait put baby   \n",
       "3     fast delivery easily sturdy right size file sa...   \n",
       "4                                       ink quite faint   \n",
       "...                                                 ...   \n",
       "9607  item prominently comfortable wear sizing fine ...   \n",
       "9608                     downfall pointed side function   \n",
       "9609                      game received able login play   \n",
       "9610  feel like better choose given random cos didnt...   \n",
       "9611  bought seller time item previous order told it...   \n",
       "\n",
       "                                            lemmatizing  \\\n",
       "0     pleasantly night delivery seller box come pack...   \n",
       "1     authentic find even overseas highly importantl...   \n",
       "2          love material worth price cant wait put baby   \n",
       "3     fast delivery easily sturdy right size file sa...   \n",
       "4                                       ink quite faint   \n",
       "...                                                 ...   \n",
       "9607  item prominently comfortable wear sizing fine ...   \n",
       "9608                     downfall pointed side function   \n",
       "9609                      game received able login play   \n",
       "9610  feel like better choose given random co didnt ...   \n",
       "9611  bought seller time item previous order told it...   \n",
       "\n",
       "                                                  clean  \n",
       "0     pleasantly night delivery seller box come pack...  \n",
       "1     authentic find even overseas highly importantl...  \n",
       "2          love material worth price cant wait put baby  \n",
       "3     fast delivery easily sturdy right size file sa...  \n",
       "4                                       ink quite faint  \n",
       "...                                                 ...  \n",
       "9607  item prominently comfortable wear sizing fine ...  \n",
       "9608                     downfall pointed side function  \n",
       "9609                      game received able login play  \n",
       "9610  feel like better choose given random co didnt ...  \n",
       "9611  bought seller time item previous order told it...  \n",
       "\n",
       "[9612 rows x 7 columns]"
      ]
     },
     "execution_count": 22,
     "metadata": {},
     "output_type": "execute_result"
    }
   ],
   "source": [
    "# Menghapus Missing Value\n",
    "df_new['clean'] = df_new['lemmatizing'].drop_duplicates()\n",
    "df_new = df_new.dropna()\n",
    "df_new = df_new.reset_index(drop=True)\n",
    "df_new"
   ]
  },
  {
   "cell_type": "markdown",
   "id": "JSoNQrXArcaW",
   "metadata": {
    "id": "JSoNQrXArcaW"
   },
   "source": [
    "### Data after cleaning"
   ]
  },
  {
   "cell_type": "code",
   "execution_count": 23,
   "id": "yK2eog_Nriav",
   "metadata": {
    "colab": {
     "base_uri": "https://localhost:8080/",
     "height": 510
    },
    "id": "yK2eog_Nriav",
    "outputId": "c45c6265-6431-4020-e5ea-76023518a0a6"
   },
   "outputs": [
    {
     "data": {
      "text/html": [
       "<div>\n",
       "<style scoped>\n",
       "    .dataframe tbody tr th:only-of-type {\n",
       "        vertical-align: middle;\n",
       "    }\n",
       "\n",
       "    .dataframe tbody tr th {\n",
       "        vertical-align: top;\n",
       "    }\n",
       "\n",
       "    .dataframe thead th {\n",
       "        text-align: right;\n",
       "    }\n",
       "</style>\n",
       "<table border=\"1\" class=\"dataframe\">\n",
       "  <thead>\n",
       "    <tr style=\"text-align: right;\">\n",
       "      <th></th>\n",
       "      <th>text</th>\n",
       "      <th>label</th>\n",
       "    </tr>\n",
       "  </thead>\n",
       "  <tbody>\n",
       "    <tr>\n",
       "      <th>0</th>\n",
       "      <td>pleasantly night delivery seller box come pack...</td>\n",
       "      <td>5</td>\n",
       "    </tr>\n",
       "    <tr>\n",
       "      <th>1</th>\n",
       "      <td>authentic find even overseas highly importantl...</td>\n",
       "      <td>5</td>\n",
       "    </tr>\n",
       "    <tr>\n",
       "      <th>2</th>\n",
       "      <td>love material worth price cant wait put baby</td>\n",
       "      <td>5</td>\n",
       "    </tr>\n",
       "    <tr>\n",
       "      <th>3</th>\n",
       "      <td>fast delivery easily sturdy right size file sa...</td>\n",
       "      <td>5</td>\n",
       "    </tr>\n",
       "    <tr>\n",
       "      <th>4</th>\n",
       "      <td>ink quite faint</td>\n",
       "      <td>2</td>\n",
       "    </tr>\n",
       "    <tr>\n",
       "      <th>...</th>\n",
       "      <td>...</td>\n",
       "      <td>...</td>\n",
       "    </tr>\n",
       "    <tr>\n",
       "      <th>9607</th>\n",
       "      <td>item prominently comfortable wear sizing fine ...</td>\n",
       "      <td>4</td>\n",
       "    </tr>\n",
       "    <tr>\n",
       "      <th>9608</th>\n",
       "      <td>downfall pointed side function</td>\n",
       "      <td>5</td>\n",
       "    </tr>\n",
       "    <tr>\n",
       "      <th>9609</th>\n",
       "      <td>game received able login play</td>\n",
       "      <td>5</td>\n",
       "    </tr>\n",
       "    <tr>\n",
       "      <th>9610</th>\n",
       "      <td>feel like better choose given random co didnt ...</td>\n",
       "      <td>3</td>\n",
       "    </tr>\n",
       "    <tr>\n",
       "      <th>9611</th>\n",
       "      <td>bought seller time item previous order told it...</td>\n",
       "      <td>1</td>\n",
       "    </tr>\n",
       "  </tbody>\n",
       "</table>\n",
       "<p>9612 rows × 2 columns</p>\n",
       "</div>"
      ],
      "text/plain": [
       "                                                   text  label\n",
       "0     pleasantly night delivery seller box come pack...      5\n",
       "1     authentic find even overseas highly importantl...      5\n",
       "2          love material worth price cant wait put baby      5\n",
       "3     fast delivery easily sturdy right size file sa...      5\n",
       "4                                       ink quite faint      2\n",
       "...                                                 ...    ...\n",
       "9607  item prominently comfortable wear sizing fine ...      4\n",
       "9608                     downfall pointed side function      5\n",
       "9609                      game received able login play      5\n",
       "9610  feel like better choose given random co didnt ...      3\n",
       "9611  bought seller time item previous order told it...      1\n",
       "\n",
       "[9612 rows x 2 columns]"
      ]
     },
     "execution_count": 23,
     "metadata": {},
     "output_type": "execute_result"
    }
   ],
   "source": [
    "# Data yang telah dibersihkan\n",
    "data = df_new[['clean','label']]\n",
    "data.rename(columns={\"clean\": \"text\", \"label\": \"label\"}, inplace=True)\n",
    "data"
   ]
  },
  {
   "cell_type": "markdown",
   "id": "1fd87147",
   "metadata": {},
   "source": [
    "Setelah dilakukan tahap cleaning data, didapatkan sisa data sebanyak 9612 baris data dan 2 kolom"
   ]
  },
  {
   "cell_type": "markdown",
   "id": "j4yPY4pFonZw",
   "metadata": {
    "id": "j4yPY4pFonZw"
   },
   "source": [
    "###  Data Labelling\n",
    "\n",
    "Pada tahap ini akan mengubah kolom label yang berisi lima rating menjadi dua kategori yaitu positif dan negatif berdasarkan rating yang diberikan pengguna aplikasi shopee.\n",
    "Rating 1-2 diberi label negatif dan rating 3-5 diberi label positif"
   ]
  },
  {
   "cell_type": "code",
   "execution_count": 24,
   "id": "aVEmCVAqptuy",
   "metadata": {
    "colab": {
     "base_uri": "https://localhost:8080/",
     "height": 527
    },
    "id": "aVEmCVAqptuy",
    "outputId": "36956228-5757-49af-fdbc-5f1d64782973"
   },
   "outputs": [
    {
     "data": {
      "text/html": [
       "<div>\n",
       "<style scoped>\n",
       "    .dataframe tbody tr th:only-of-type {\n",
       "        vertical-align: middle;\n",
       "    }\n",
       "\n",
       "    .dataframe tbody tr th {\n",
       "        vertical-align: top;\n",
       "    }\n",
       "\n",
       "    .dataframe thead th {\n",
       "        text-align: right;\n",
       "    }\n",
       "</style>\n",
       "<table border=\"1\" class=\"dataframe\">\n",
       "  <thead>\n",
       "    <tr style=\"text-align: right;\">\n",
       "      <th></th>\n",
       "      <th>text</th>\n",
       "      <th>label</th>\n",
       "    </tr>\n",
       "  </thead>\n",
       "  <tbody>\n",
       "    <tr>\n",
       "      <th>0</th>\n",
       "      <td>pleasantly night delivery seller box come pack...</td>\n",
       "      <td>Positive</td>\n",
       "    </tr>\n",
       "    <tr>\n",
       "      <th>1</th>\n",
       "      <td>authentic find even overseas highly importantl...</td>\n",
       "      <td>Positive</td>\n",
       "    </tr>\n",
       "    <tr>\n",
       "      <th>2</th>\n",
       "      <td>love material worth price cant wait put baby</td>\n",
       "      <td>Positive</td>\n",
       "    </tr>\n",
       "    <tr>\n",
       "      <th>3</th>\n",
       "      <td>fast delivery easily sturdy right size file sa...</td>\n",
       "      <td>Positive</td>\n",
       "    </tr>\n",
       "    <tr>\n",
       "      <th>4</th>\n",
       "      <td>ink quite faint</td>\n",
       "      <td>Negative</td>\n",
       "    </tr>\n",
       "    <tr>\n",
       "      <th>...</th>\n",
       "      <td>...</td>\n",
       "      <td>...</td>\n",
       "    </tr>\n",
       "    <tr>\n",
       "      <th>9607</th>\n",
       "      <td>item prominently comfortable wear sizing fine ...</td>\n",
       "      <td>Positive</td>\n",
       "    </tr>\n",
       "    <tr>\n",
       "      <th>9608</th>\n",
       "      <td>downfall pointed side function</td>\n",
       "      <td>Positive</td>\n",
       "    </tr>\n",
       "    <tr>\n",
       "      <th>9609</th>\n",
       "      <td>game received able login play</td>\n",
       "      <td>Positive</td>\n",
       "    </tr>\n",
       "    <tr>\n",
       "      <th>9610</th>\n",
       "      <td>feel like better choose given random co didnt ...</td>\n",
       "      <td>Positive</td>\n",
       "    </tr>\n",
       "    <tr>\n",
       "      <th>9611</th>\n",
       "      <td>bought seller time item previous order told it...</td>\n",
       "      <td>Negative</td>\n",
       "    </tr>\n",
       "  </tbody>\n",
       "</table>\n",
       "<p>9612 rows × 2 columns</p>\n",
       "</div>"
      ],
      "text/plain": [
       "                                                   text     label\n",
       "0     pleasantly night delivery seller box come pack...  Positive\n",
       "1     authentic find even overseas highly importantl...  Positive\n",
       "2          love material worth price cant wait put baby  Positive\n",
       "3     fast delivery easily sturdy right size file sa...  Positive\n",
       "4                                       ink quite faint  Negative\n",
       "...                                                 ...       ...\n",
       "9607  item prominently comfortable wear sizing fine ...  Positive\n",
       "9608                     downfall pointed side function  Positive\n",
       "9609                      game received able login play  Positive\n",
       "9610  feel like better choose given random co didnt ...  Positive\n",
       "9611  bought seller time item previous order told it...  Negative\n",
       "\n",
       "[9612 rows x 2 columns]"
      ]
     },
     "execution_count": 24,
     "metadata": {},
     "output_type": "execute_result"
    }
   ],
   "source": [
    "# Memberi label pada data\n",
    "label = data[\"label\"].values\n",
    "sentiment = []\n",
    "for i in label:\n",
    "    if i >= 3 :\n",
    "        sentiment.append('Positive')\n",
    "    else:\n",
    "        sentiment.append('Negative')\n",
    "data[\"label\"] = sentiment\n",
    "data"
   ]
  },
  {
   "cell_type": "code",
   "execution_count": 25,
   "id": "dVPVQMNbyBNm",
   "metadata": {
    "colab": {
     "base_uri": "https://localhost:8080/"
    },
    "id": "dVPVQMNbyBNm",
    "outputId": "1b2d7c2b-9be2-4439-f55c-912ce575eab8"
   },
   "outputs": [
    {
     "data": {
      "text/plain": [
       "(9612, 2)"
      ]
     },
     "execution_count": 25,
     "metadata": {},
     "output_type": "execute_result"
    }
   ],
   "source": [
    "# Mengetahui jumlah data dan kolom \n",
    "data.shape"
   ]
  },
  {
   "cell_type": "code",
   "execution_count": 26,
   "id": "L8bq5Fzau6Z9",
   "metadata": {
    "id": "L8bq5Fzau6Z9"
   },
   "outputs": [],
   "source": [
    "#data.to_csv('clean data.csv',index=False)"
   ]
  },
  {
   "cell_type": "markdown",
   "id": "j14hGVvMzwZa",
   "metadata": {
    "id": "j14hGVvMzwZa"
   },
   "source": [
    "### Cek Frekuensi Label"
   ]
  },
  {
   "cell_type": "code",
   "execution_count": 27,
   "id": "Gtt8K2oizznz",
   "metadata": {
    "colab": {
     "base_uri": "https://localhost:8080/"
    },
    "id": "Gtt8K2oizznz",
    "outputId": "ee5cef56-21e8-4e8d-a2c5-b164c6995648"
   },
   "outputs": [
    {
     "data": {
      "text/plain": [
       "Positive    9310\n",
       "Negative     302\n",
       "Name: label, dtype: int64"
      ]
     },
     "execution_count": 27,
     "metadata": {},
     "output_type": "execute_result"
    }
   ],
   "source": [
    "data.label.value_counts()"
   ]
  },
  {
   "cell_type": "markdown",
   "id": "4b2e2801",
   "metadata": {},
   "source": [
    "Dapat diketahui bahwa komentar positif (rating 3-5) dari ulasan pengguna aplikasi shopee sebanyak 9310, dan komentar negatif (rating 1-2) dari ulasan pengguna aplikasi shopee sebanyak 302."
   ]
  },
  {
   "cell_type": "markdown",
   "id": "ha4tWZsP0AQE",
   "metadata": {
    "id": "ha4tWZsP0AQE"
   },
   "source": [
    "### Label Encoder\n",
    "\n",
    "Pada tahap ini akan mengubah nilai teks menjadi nilai numerik di kolom 'label'. Tujuannya untuk mengkonversi kategori teks menjadi representasi numerik yang dapat dipahami algoritma machine learning.\n",
    "\n",
    "Kategori positif diberi label 1 dan kategori negatif diberi label 0"
   ]
  },
  {
   "cell_type": "code",
   "execution_count": 28,
   "id": "Hzs2FjB-0CuY",
   "metadata": {
    "colab": {
     "base_uri": "https://localhost:8080/",
     "height": 310
    },
    "id": "Hzs2FjB-0CuY",
    "outputId": "5ff498be-0383-4154-f862-b27c05455f95"
   },
   "outputs": [
    {
     "data": {
      "text/html": [
       "<div>\n",
       "<style scoped>\n",
       "    .dataframe tbody tr th:only-of-type {\n",
       "        vertical-align: middle;\n",
       "    }\n",
       "\n",
       "    .dataframe tbody tr th {\n",
       "        vertical-align: top;\n",
       "    }\n",
       "\n",
       "    .dataframe thead th {\n",
       "        text-align: right;\n",
       "    }\n",
       "</style>\n",
       "<table border=\"1\" class=\"dataframe\">\n",
       "  <thead>\n",
       "    <tr style=\"text-align: right;\">\n",
       "      <th></th>\n",
       "      <th>text</th>\n",
       "      <th>label</th>\n",
       "    </tr>\n",
       "  </thead>\n",
       "  <tbody>\n",
       "    <tr>\n",
       "      <th>0</th>\n",
       "      <td>pleasantly night delivery seller box come pack...</td>\n",
       "      <td>1</td>\n",
       "    </tr>\n",
       "    <tr>\n",
       "      <th>1</th>\n",
       "      <td>authentic find even overseas highly importantl...</td>\n",
       "      <td>1</td>\n",
       "    </tr>\n",
       "    <tr>\n",
       "      <th>2</th>\n",
       "      <td>love material worth price cant wait put baby</td>\n",
       "      <td>1</td>\n",
       "    </tr>\n",
       "    <tr>\n",
       "      <th>3</th>\n",
       "      <td>fast delivery easily sturdy right size file sa...</td>\n",
       "      <td>1</td>\n",
       "    </tr>\n",
       "    <tr>\n",
       "      <th>4</th>\n",
       "      <td>ink quite faint</td>\n",
       "      <td>0</td>\n",
       "    </tr>\n",
       "  </tbody>\n",
       "</table>\n",
       "</div>"
      ],
      "text/plain": [
       "                                                text  label\n",
       "0  pleasantly night delivery seller box come pack...      1\n",
       "1  authentic find even overseas highly importantl...      1\n",
       "2       love material worth price cant wait put baby      1\n",
       "3  fast delivery easily sturdy right size file sa...      1\n",
       "4                                    ink quite faint      0"
      ]
     },
     "execution_count": 28,
     "metadata": {},
     "output_type": "execute_result"
    }
   ],
   "source": [
    "from sklearn.preprocessing import LabelEncoder\n",
    "le = LabelEncoder()\n",
    "data.label = le.fit_transform(data.label)\n",
    "data.head()"
   ]
  },
  {
   "cell_type": "markdown",
   "id": "UBMwGwYO0b-2",
   "metadata": {
    "id": "UBMwGwYO0b-2"
   },
   "source": [
    "### Cek NaN"
   ]
  },
  {
   "cell_type": "code",
   "execution_count": 29,
   "id": "LkxDrWSm1RZy",
   "metadata": {
    "colab": {
     "base_uri": "https://localhost:8080/"
    },
    "id": "LkxDrWSm1RZy",
    "outputId": "c40e3549-6010-4c95-8862-25d3fde1d8d1"
   },
   "outputs": [
    {
     "data": {
      "text/plain": [
       "Int64Index([], dtype='int64')"
      ]
     },
     "execution_count": 29,
     "metadata": {},
     "output_type": "execute_result"
    }
   ],
   "source": [
    "data.loc[pd.isna(data[\"text\"]), :].index"
   ]
  },
  {
   "cell_type": "markdown",
   "id": "f2hrRlpkzp9H",
   "metadata": {
    "id": "f2hrRlpkzp9H"
   },
   "source": [
    "## F. Train Test Split Data\n",
    "\n",
    "Pada tahap ini akan membagi dataset menjadi dua subset yang terpisah: data pelatihan (train set) dan data pengujian (test set). Train set digunakan untuk melatih model machine learning, sedangkan test set digunakan untuk menguji kinerja model yang dilatih. Data ini dibagi dengan perbadingan 80% train set dan 20% test set."
   ]
  },
  {
   "cell_type": "code",
   "execution_count": 30,
   "id": "k-sUBKu5zsW8",
   "metadata": {
    "colab": {
     "base_uri": "https://localhost:8080/"
    },
    "id": "k-sUBKu5zsW8",
    "outputId": "3cc4c968-abeb-46c3-b153-8b996b4d830a"
   },
   "outputs": [],
   "source": [
    "# Melakukan Splitting Data\n",
    "X = data['text']\n",
    "Y = data['label']\n",
    "x_train, x_test, y_train, y_test = train_test_split(X,Y, test_size=0.2, random_state=110)"
   ]
  },
  {
   "cell_type": "code",
   "execution_count": 31,
   "id": "6dd0d5f3",
   "metadata": {},
   "outputs": [
    {
     "name": "stdout",
     "output_type": "stream",
     "text": [
      "(7689,)\n",
      "(1923,)\n",
      "(7689,)\n",
      "(1923,)\n"
     ]
    }
   ],
   "source": [
    "# Mengetahui jumlah data yang telah di bagi\n",
    "print(x_train.shape)\n",
    "print(x_test.shape) \n",
    "print(y_train.shape)\n",
    "print(y_test.shape)"
   ]
  },
  {
   "cell_type": "markdown",
   "id": "50ea63de",
   "metadata": {},
   "source": [
    "Dapat diketahui jumlah data yang telah dibagi, data pelatihan (train set) sebanyak 7689 baris dan data pengujian (test set) sebanyak 1923 baris."
   ]
  },
  {
   "cell_type": "markdown",
   "id": "VizZzudZzjfv",
   "metadata": {
    "id": "VizZzudZzjfv"
   },
   "source": [
    "## G. TF-IDF\n",
    "\n",
    "TF-IDF (Term Frequency-Inverse Document Frequency) adalah metode yang digunakan untuk mengukur pentingnya suatu kata dalam dokumen atau kumpulan dokumen. Metode ini membantu untuk mengidentifikasi kata-kata kunci yang lebih informatif dan memberikan bobot yang lebih tinggi pada kata-kata tersebut, sehingga mempengaruhi hasil analisis atau prediksi yang dihasilkan oleh model machine learning."
   ]
  },
  {
   "cell_type": "code",
   "execution_count": 32,
   "id": "CBo--nGgz96K",
   "metadata": {
    "colab": {
     "base_uri": "https://localhost:8080/",
     "height": 74
    },
    "id": "CBo--nGgz96K",
    "outputId": "0d7dfda8-2a38-4a91-ca3e-e0cfc44b34c9"
   },
   "outputs": [
    {
     "data": {
      "text/html": [
       "<style>#sk-container-id-1 {color: black;background-color: white;}#sk-container-id-1 pre{padding: 0;}#sk-container-id-1 div.sk-toggleable {background-color: white;}#sk-container-id-1 label.sk-toggleable__label {cursor: pointer;display: block;width: 100%;margin-bottom: 0;padding: 0.3em;box-sizing: border-box;text-align: center;}#sk-container-id-1 label.sk-toggleable__label-arrow:before {content: \"▸\";float: left;margin-right: 0.25em;color: #696969;}#sk-container-id-1 label.sk-toggleable__label-arrow:hover:before {color: black;}#sk-container-id-1 div.sk-estimator:hover label.sk-toggleable__label-arrow:before {color: black;}#sk-container-id-1 div.sk-toggleable__content {max-height: 0;max-width: 0;overflow: hidden;text-align: left;background-color: #f0f8ff;}#sk-container-id-1 div.sk-toggleable__content pre {margin: 0.2em;color: black;border-radius: 0.25em;background-color: #f0f8ff;}#sk-container-id-1 input.sk-toggleable__control:checked~div.sk-toggleable__content {max-height: 200px;max-width: 100%;overflow: auto;}#sk-container-id-1 input.sk-toggleable__control:checked~label.sk-toggleable__label-arrow:before {content: \"▾\";}#sk-container-id-1 div.sk-estimator input.sk-toggleable__control:checked~label.sk-toggleable__label {background-color: #d4ebff;}#sk-container-id-1 div.sk-label input.sk-toggleable__control:checked~label.sk-toggleable__label {background-color: #d4ebff;}#sk-container-id-1 input.sk-hidden--visually {border: 0;clip: rect(1px 1px 1px 1px);clip: rect(1px, 1px, 1px, 1px);height: 1px;margin: -1px;overflow: hidden;padding: 0;position: absolute;width: 1px;}#sk-container-id-1 div.sk-estimator {font-family: monospace;background-color: #f0f8ff;border: 1px dotted black;border-radius: 0.25em;box-sizing: border-box;margin-bottom: 0.5em;}#sk-container-id-1 div.sk-estimator:hover {background-color: #d4ebff;}#sk-container-id-1 div.sk-parallel-item::after {content: \"\";width: 100%;border-bottom: 1px solid gray;flex-grow: 1;}#sk-container-id-1 div.sk-label:hover label.sk-toggleable__label {background-color: #d4ebff;}#sk-container-id-1 div.sk-serial::before {content: \"\";position: absolute;border-left: 1px solid gray;box-sizing: border-box;top: 0;bottom: 0;left: 50%;z-index: 0;}#sk-container-id-1 div.sk-serial {display: flex;flex-direction: column;align-items: center;background-color: white;padding-right: 0.2em;padding-left: 0.2em;position: relative;}#sk-container-id-1 div.sk-item {position: relative;z-index: 1;}#sk-container-id-1 div.sk-parallel {display: flex;align-items: stretch;justify-content: center;background-color: white;position: relative;}#sk-container-id-1 div.sk-item::before, #sk-container-id-1 div.sk-parallel-item::before {content: \"\";position: absolute;border-left: 1px solid gray;box-sizing: border-box;top: 0;bottom: 0;left: 50%;z-index: -1;}#sk-container-id-1 div.sk-parallel-item {display: flex;flex-direction: column;z-index: 1;position: relative;background-color: white;}#sk-container-id-1 div.sk-parallel-item:first-child::after {align-self: flex-end;width: 50%;}#sk-container-id-1 div.sk-parallel-item:last-child::after {align-self: flex-start;width: 50%;}#sk-container-id-1 div.sk-parallel-item:only-child::after {width: 0;}#sk-container-id-1 div.sk-dashed-wrapped {border: 1px dashed gray;margin: 0 0.4em 0.5em 0.4em;box-sizing: border-box;padding-bottom: 0.4em;background-color: white;}#sk-container-id-1 div.sk-label label {font-family: monospace;font-weight: bold;display: inline-block;line-height: 1.2em;}#sk-container-id-1 div.sk-label-container {text-align: center;}#sk-container-id-1 div.sk-container {/* jupyter's `normalize.less` sets `[hidden] { display: none; }` but bootstrap.min.css set `[hidden] { display: none !important; }` so we also need the `!important` here to be able to override the default hidden behavior on the sphinx rendered scikit-learn.org. See: https://github.com/scikit-learn/scikit-learn/issues/21755 */display: inline-block !important;position: relative;}#sk-container-id-1 div.sk-text-repr-fallback {display: none;}</style><div id=\"sk-container-id-1\" class=\"sk-top-container\"><div class=\"sk-text-repr-fallback\"><pre>TfidfVectorizer()</pre><b>In a Jupyter environment, please rerun this cell to show the HTML representation or trust the notebook. <br />On GitHub, the HTML representation is unable to render, please try loading this page with nbviewer.org.</b></div><div class=\"sk-container\" hidden><div class=\"sk-item\"><div class=\"sk-estimator sk-toggleable\"><input class=\"sk-toggleable__control sk-hidden--visually\" id=\"sk-estimator-id-1\" type=\"checkbox\" checked><label for=\"sk-estimator-id-1\" class=\"sk-toggleable__label sk-toggleable__label-arrow\">TfidfVectorizer</label><div class=\"sk-toggleable__content\"><pre>TfidfVectorizer()</pre></div></div></div></div></div>"
      ],
      "text/plain": [
       "TfidfVectorizer()"
      ]
     },
     "execution_count": 32,
     "metadata": {},
     "output_type": "execute_result"
    }
   ],
   "source": [
    "Tfidf_vect = TfidfVectorizer()\n",
    "Tfidf_vect.fit(data['text'])"
   ]
  },
  {
   "cell_type": "code",
   "execution_count": 33,
   "id": "dZVNgCxM0Pah",
   "metadata": {
    "id": "dZVNgCxM0Pah"
   },
   "outputs": [],
   "source": [
    "feature_names = Tfidf_vect.get_feature_names_out()\n",
    "tfidf = Tfidf_vect.fit_transform(data['text']).toarray()\n",
    "df_idf = pd.DataFrame(tfidf, columns=feature_names, index=data['text'])"
   ]
  },
  {
   "cell_type": "code",
   "execution_count": 34,
   "id": "asA-HhOD0Zca",
   "metadata": {
    "colab": {
     "base_uri": "https://localhost:8080/"
    },
    "id": "asA-HhOD0Zca",
    "outputId": "b9ffc33b-90c1-4211-937a-24638ba1f143"
   },
   "outputs": [
    {
     "name": "stdout",
     "output_type": "stream",
     "text": [
      "(7689, 3830) (1923, 3830) (7689,) (1923,)\n"
     ]
    }
   ],
   "source": [
    "x_trainidf = Tfidf_vect.transform(x_train)\n",
    "x_testidf = Tfidf_vect.transform(x_test)\n",
    "print(x_trainidf.shape, x_testidf.shape, y_train.shape, y_test.shape)"
   ]
  },
  {
   "cell_type": "code",
   "execution_count": 35,
   "id": "3Ig0wnKn0t6y",
   "metadata": {
    "id": "3Ig0wnKn0t6y"
   },
   "outputs": [],
   "source": [
    "df_train = pd.DataFrame(x_trainidf.toarray(), columns=feature_names, index=x_train)\n",
    "df_test = pd.DataFrame(x_testidf.toarray(), columns=feature_names, index=x_test)"
   ]
  },
  {
   "cell_type": "markdown",
   "id": "f43365e0",
   "metadata": {},
   "source": [
    "## H. Modelling\n",
    "\n",
    "Tahap ini akan membangun model prediktif menggunakan algoritma machine learning untuk melatih model menggunakan data pelatihan dan data pengujian. Algoritma yang digunakan ada dua yaitu Support Vector Machine dan Random Forest"
   ]
  },
  {
   "cell_type": "markdown",
   "id": "U0JhpeAX1IRW",
   "metadata": {
    "id": "U0JhpeAX1IRW"
   },
   "source": [
    "## Support Vector Machine"
   ]
  },
  {
   "cell_type": "markdown",
   "id": "K-SfCkZL-Vqf",
   "metadata": {
    "id": "K-SfCkZL-Vqf"
   },
   "source": [
    "### **SVM Linear**"
   ]
  },
  {
   "cell_type": "code",
   "execution_count": 36,
   "id": "4o_LK4t_1JHR",
   "metadata": {
    "colab": {
     "base_uri": "https://localhost:8080/",
     "height": 74
    },
    "id": "4o_LK4t_1JHR",
    "outputId": "b70502d8-f236-463b-e089-73ebc14a4e53"
   },
   "outputs": [
    {
     "data": {
      "text/html": [
       "<style>#sk-container-id-2 {color: black;background-color: white;}#sk-container-id-2 pre{padding: 0;}#sk-container-id-2 div.sk-toggleable {background-color: white;}#sk-container-id-2 label.sk-toggleable__label {cursor: pointer;display: block;width: 100%;margin-bottom: 0;padding: 0.3em;box-sizing: border-box;text-align: center;}#sk-container-id-2 label.sk-toggleable__label-arrow:before {content: \"▸\";float: left;margin-right: 0.25em;color: #696969;}#sk-container-id-2 label.sk-toggleable__label-arrow:hover:before {color: black;}#sk-container-id-2 div.sk-estimator:hover label.sk-toggleable__label-arrow:before {color: black;}#sk-container-id-2 div.sk-toggleable__content {max-height: 0;max-width: 0;overflow: hidden;text-align: left;background-color: #f0f8ff;}#sk-container-id-2 div.sk-toggleable__content pre {margin: 0.2em;color: black;border-radius: 0.25em;background-color: #f0f8ff;}#sk-container-id-2 input.sk-toggleable__control:checked~div.sk-toggleable__content {max-height: 200px;max-width: 100%;overflow: auto;}#sk-container-id-2 input.sk-toggleable__control:checked~label.sk-toggleable__label-arrow:before {content: \"▾\";}#sk-container-id-2 div.sk-estimator input.sk-toggleable__control:checked~label.sk-toggleable__label {background-color: #d4ebff;}#sk-container-id-2 div.sk-label input.sk-toggleable__control:checked~label.sk-toggleable__label {background-color: #d4ebff;}#sk-container-id-2 input.sk-hidden--visually {border: 0;clip: rect(1px 1px 1px 1px);clip: rect(1px, 1px, 1px, 1px);height: 1px;margin: -1px;overflow: hidden;padding: 0;position: absolute;width: 1px;}#sk-container-id-2 div.sk-estimator {font-family: monospace;background-color: #f0f8ff;border: 1px dotted black;border-radius: 0.25em;box-sizing: border-box;margin-bottom: 0.5em;}#sk-container-id-2 div.sk-estimator:hover {background-color: #d4ebff;}#sk-container-id-2 div.sk-parallel-item::after {content: \"\";width: 100%;border-bottom: 1px solid gray;flex-grow: 1;}#sk-container-id-2 div.sk-label:hover label.sk-toggleable__label {background-color: #d4ebff;}#sk-container-id-2 div.sk-serial::before {content: \"\";position: absolute;border-left: 1px solid gray;box-sizing: border-box;top: 0;bottom: 0;left: 50%;z-index: 0;}#sk-container-id-2 div.sk-serial {display: flex;flex-direction: column;align-items: center;background-color: white;padding-right: 0.2em;padding-left: 0.2em;position: relative;}#sk-container-id-2 div.sk-item {position: relative;z-index: 1;}#sk-container-id-2 div.sk-parallel {display: flex;align-items: stretch;justify-content: center;background-color: white;position: relative;}#sk-container-id-2 div.sk-item::before, #sk-container-id-2 div.sk-parallel-item::before {content: \"\";position: absolute;border-left: 1px solid gray;box-sizing: border-box;top: 0;bottom: 0;left: 50%;z-index: -1;}#sk-container-id-2 div.sk-parallel-item {display: flex;flex-direction: column;z-index: 1;position: relative;background-color: white;}#sk-container-id-2 div.sk-parallel-item:first-child::after {align-self: flex-end;width: 50%;}#sk-container-id-2 div.sk-parallel-item:last-child::after {align-self: flex-start;width: 50%;}#sk-container-id-2 div.sk-parallel-item:only-child::after {width: 0;}#sk-container-id-2 div.sk-dashed-wrapped {border: 1px dashed gray;margin: 0 0.4em 0.5em 0.4em;box-sizing: border-box;padding-bottom: 0.4em;background-color: white;}#sk-container-id-2 div.sk-label label {font-family: monospace;font-weight: bold;display: inline-block;line-height: 1.2em;}#sk-container-id-2 div.sk-label-container {text-align: center;}#sk-container-id-2 div.sk-container {/* jupyter's `normalize.less` sets `[hidden] { display: none; }` but bootstrap.min.css set `[hidden] { display: none !important; }` so we also need the `!important` here to be able to override the default hidden behavior on the sphinx rendered scikit-learn.org. See: https://github.com/scikit-learn/scikit-learn/issues/21755 */display: inline-block !important;position: relative;}#sk-container-id-2 div.sk-text-repr-fallback {display: none;}</style><div id=\"sk-container-id-2\" class=\"sk-top-container\"><div class=\"sk-text-repr-fallback\"><pre>SVC(C=1, kernel=&#x27;linear&#x27;, random_state=110)</pre><b>In a Jupyter environment, please rerun this cell to show the HTML representation or trust the notebook. <br />On GitHub, the HTML representation is unable to render, please try loading this page with nbviewer.org.</b></div><div class=\"sk-container\" hidden><div class=\"sk-item\"><div class=\"sk-estimator sk-toggleable\"><input class=\"sk-toggleable__control sk-hidden--visually\" id=\"sk-estimator-id-2\" type=\"checkbox\" checked><label for=\"sk-estimator-id-2\" class=\"sk-toggleable__label sk-toggleable__label-arrow\">SVC</label><div class=\"sk-toggleable__content\"><pre>SVC(C=1, kernel=&#x27;linear&#x27;, random_state=110)</pre></div></div></div></div></div>"
      ],
      "text/plain": [
       "SVC(C=1, kernel='linear', random_state=110)"
      ]
     },
     "execution_count": 36,
     "metadata": {},
     "output_type": "execute_result"
    }
   ],
   "source": [
    "# Support Vector Machine\n",
    "from sklearn.svm import SVC\n",
    "model = SVC(kernel='linear',C=1,tol=1e-3,random_state=110)\n",
    "model.fit(x_trainidf,y_train)"
   ]
  },
  {
   "cell_type": "markdown",
   "id": "lEuV4jyf_FUj",
   "metadata": {
    "id": "lEuV4jyf_FUj"
   },
   "source": [
    "### Training Predictions"
   ]
  },
  {
   "cell_type": "code",
   "execution_count": 37,
   "id": "m-m-SISA_MHS",
   "metadata": {
    "colab": {
     "base_uri": "https://localhost:8080/"
    },
    "id": "m-m-SISA_MHS",
    "outputId": "eea62968-c831-4659-bc9f-7eb6f1c2b6fa"
   },
   "outputs": [
    {
     "name": "stdout",
     "output_type": "stream",
     "text": [
      "\n",
      "Classification report:\n",
      "              precision    recall  f1-score   support\n",
      "\n",
      "           0       1.00      0.18      0.30       237\n",
      "           1       0.97      1.00      0.99      7452\n",
      "\n",
      "    accuracy                           0.97      7689\n",
      "   macro avg       0.99      0.59      0.64      7689\n",
      "weighted avg       0.98      0.97      0.97      7689\n",
      "\n"
     ]
    }
   ],
   "source": [
    "predictions_linear_train = model.predict(x_trainidf)\n",
    "\n",
    "print('\\nClassification report:')\n",
    "cr_linear_train = classification_report(y_train, predictions_linear_train)\n",
    "print(cr_linear_train)"
   ]
  },
  {
   "cell_type": "markdown",
   "id": "dea74512",
   "metadata": {},
   "source": [
    "Hasil dari pelatihan model menggunakan data train pada algoritma SVM didapatkan akurasi sebesar 0.97"
   ]
  },
  {
   "cell_type": "code",
   "execution_count": 38,
   "id": "64BqHzpa_MHT",
   "metadata": {
    "colab": {
     "base_uri": "https://localhost:8080/",
     "height": 472
    },
    "id": "64BqHzpa_MHT",
    "outputId": "c93b7333-1ba7-45ce-d7ba-3b62bd161c56"
   },
   "outputs": [
    {
     "data": {
      "image/png": "[encoded data removed]",
      "text/plain": [
       "<Figure size 432x288 with 2 Axes>"
      ]
     },
     "metadata": {
      "needs_background": "light"
     },
     "output_type": "display_data"
    }
   ],
   "source": [
    "from sklearn import metrics\n",
    "import seaborn as sns\n",
    "conf_mat = metrics.confusion_matrix(y_train, predictions_linear_train)\n",
    "class_label = ['Negatif','Positif']\n",
    "train = pd.DataFrame(conf_mat, index = class_label, columns = class_label)\n",
    "sns.heatmap(train, annot = True,fmt=\"d\",cmap='Blues')\n",
    "plt.title(\"Confusion Matrix\")\n",
    "plt.xlabel(\"Predicted Label\")\n",
    "plt.ylabel(\"True Label\")\n",
    "plt.show()"
   ]
  },
  {
   "cell_type": "markdown",
   "id": "9ebf1c3c",
   "metadata": {},
   "source": [
    "Dari gambar di atas, dapat dijelaskan evaluasi kinerja model klasifikasi biner yaitu:\n",
    "- True Positif (TP): Jumlah sampel yang benar diprediksi sebagai positif sebesar 7452\n",
    "- False Negatif (FN): Jumlah sampel yang seharusnya positif tetapi salah diprediksi sebagai negatif sebesar 0\n",
    "- False Positif (FP): Jumlah sampel yang seharusnya negatif tetapi salah diprediksi sebagai positif sebesar 195\n",
    "- True Negatif (TN): Jumlah samep yang benar diprediksi sebagai negatif sebesar 42"
   ]
  },
  {
   "cell_type": "markdown",
   "id": "npI87IZU_J0v",
   "metadata": {
    "id": "npI87IZU_J0v"
   },
   "source": [
    "###  Testing Predictions"
   ]
  },
  {
   "cell_type": "code",
   "execution_count": 39,
   "id": "IrFJpoOL41WG",
   "metadata": {
    "colab": {
     "base_uri": "https://localhost:8080/"
    },
    "id": "IrFJpoOL41WG",
    "outputId": "57b127e1-e75c-4553-b4e3-aeb61444a2bb"
   },
   "outputs": [
    {
     "name": "stdout",
     "output_type": "stream",
     "text": [
      "\n",
      "Classification report:\n",
      "              precision    recall  f1-score   support\n",
      "\n",
      "           0       1.00      0.03      0.06        65\n",
      "           1       0.97      1.00      0.98      1858\n",
      "\n",
      "    accuracy                           0.97      1923\n",
      "   macro avg       0.98      0.52      0.52      1923\n",
      "weighted avg       0.97      0.97      0.95      1923\n",
      "\n"
     ]
    }
   ],
   "source": [
    "predictions_linear = model.predict(x_testidf)\n",
    "\n",
    "print('\\nClassification report:')\n",
    "cr_linear = classification_report(y_test, predictions_linear)\n",
    "print(cr_linear)"
   ]
  },
  {
   "cell_type": "markdown",
   "id": "1f106436",
   "metadata": {},
   "source": [
    "Hasil dari pelatihan model menggunakan data test pada algoritma SVM didapatkan akurasi sebesar 0.97"
   ]
  },
  {
   "cell_type": "code",
   "execution_count": 40,
   "id": "Xvum2Tlc6DrB",
   "metadata": {
    "colab": {
     "base_uri": "https://localhost:8080/",
     "height": 472
    },
    "id": "Xvum2Tlc6DrB",
    "outputId": "69f564e9-0ba6-4c51-b142-4ba16e01b492"
   },
   "outputs": [
    {
     "data": {
      "image/png": "[encoded data removed]",
      "text/plain": [
       "<Figure size 432x288 with 2 Axes>"
      ]
     },
     "metadata": {
      "needs_background": "light"
     },
     "output_type": "display_data"
    }
   ],
   "source": [
    "from sklearn import metrics\n",
    "conf_mat = metrics.confusion_matrix(y_test, predictions_linear)\n",
    "class_label = ['Negatif','Positif']\n",
    "train = pd.DataFrame(conf_mat, index = class_label, columns = class_label)\n",
    "sns.heatmap(train, annot = True,fmt=\"d\",cmap='Blues')\n",
    "plt.title(\"Confusion Matrix\")\n",
    "plt.xlabel(\"Predicted Label\")\n",
    "plt.ylabel(\"True Label\")\n",
    "plt.show()"
   ]
  },
  {
   "cell_type": "markdown",
   "id": "607516cf",
   "metadata": {},
   "source": [
    "Dari gambar di atas, dapat dijelaskan evaluasi kinerja model klasifikasi biner yaitu:\n",
    "\n",
    "- True Positif (TP): Jumlah sampel yang benar diprediksi sebagai positif sebesar 1858\n",
    "- False Negatif (FN): Jumlah sampel yang seharusnya positif tetapi salah diprediksi sebagai negatif sebesar 0\n",
    "- False Positif (FP): Jumlah sampel yang seharusnya negatif tetapi salah diprediksi sebagai positif sebesar 63\n",
    "- True Negatif (TN): Jumlah samep yang benar diprediksi sebagai negatif sebesar 2"
   ]
  },
  {
   "cell_type": "code",
   "execution_count": 41,
   "id": "mAc5cjOL_pNs",
   "metadata": {
    "colab": {
     "base_uri": "https://localhost:8080/"
    },
    "id": "mAc5cjOL_pNs",
    "outputId": "05f24520-cd68-4924-e9e8-9bc6f917e5f3"
   },
   "outputs": [
    {
     "data": {
      "text/plain": [
       "0.9672386895475819"
      ]
     },
     "execution_count": 41,
     "metadata": {},
     "output_type": "execute_result"
    }
   ],
   "source": [
    "from sklearn.metrics import classification_report,accuracy_score\n",
    "acc_linear = accuracy_score(y_test,predictions_linear)\n",
    "acc_linear"
   ]
  },
  {
   "cell_type": "markdown",
   "id": "5de70779",
   "metadata": {},
   "source": [
    "Didapatkan nilai akurasi dari model Support Vector Machine sebesar 0.967 atau 0.97"
   ]
  },
  {
   "cell_type": "markdown",
   "id": "d3016a9d",
   "metadata": {},
   "source": [
    "## Random Forest"
   ]
  },
  {
   "cell_type": "code",
   "execution_count": 42,
   "id": "0781b849",
   "metadata": {},
   "outputs": [
    {
     "data": {
      "text/html": [
       "<style>#sk-container-id-3 {color: black;background-color: white;}#sk-container-id-3 pre{padding: 0;}#sk-container-id-3 div.sk-toggleable {background-color: white;}#sk-container-id-3 label.sk-toggleable__label {cursor: pointer;display: block;width: 100%;margin-bottom: 0;padding: 0.3em;box-sizing: border-box;text-align: center;}#sk-container-id-3 label.sk-toggleable__label-arrow:before {content: \"▸\";float: left;margin-right: 0.25em;color: #696969;}#sk-container-id-3 label.sk-toggleable__label-arrow:hover:before {color: black;}#sk-container-id-3 div.sk-estimator:hover label.sk-toggleable__label-arrow:before {color: black;}#sk-container-id-3 div.sk-toggleable__content {max-height: 0;max-width: 0;overflow: hidden;text-align: left;background-color: #f0f8ff;}#sk-container-id-3 div.sk-toggleable__content pre {margin: 0.2em;color: black;border-radius: 0.25em;background-color: #f0f8ff;}#sk-container-id-3 input.sk-toggleable__control:checked~div.sk-toggleable__content {max-height: 200px;max-width: 100%;overflow: auto;}#sk-container-id-3 input.sk-toggleable__control:checked~label.sk-toggleable__label-arrow:before {content: \"▾\";}#sk-container-id-3 div.sk-estimator input.sk-toggleable__control:checked~label.sk-toggleable__label {background-color: #d4ebff;}#sk-container-id-3 div.sk-label input.sk-toggleable__control:checked~label.sk-toggleable__label {background-color: #d4ebff;}#sk-container-id-3 input.sk-hidden--visually {border: 0;clip: rect(1px 1px 1px 1px);clip: rect(1px, 1px, 1px, 1px);height: 1px;margin: -1px;overflow: hidden;padding: 0;position: absolute;width: 1px;}#sk-container-id-3 div.sk-estimator {font-family: monospace;background-color: #f0f8ff;border: 1px dotted black;border-radius: 0.25em;box-sizing: border-box;margin-bottom: 0.5em;}#sk-container-id-3 div.sk-estimator:hover {background-color: #d4ebff;}#sk-container-id-3 div.sk-parallel-item::after {content: \"\";width: 100%;border-bottom: 1px solid gray;flex-grow: 1;}#sk-container-id-3 div.sk-label:hover label.sk-toggleable__label {background-color: #d4ebff;}#sk-container-id-3 div.sk-serial::before {content: \"\";position: absolute;border-left: 1px solid gray;box-sizing: border-box;top: 0;bottom: 0;left: 50%;z-index: 0;}#sk-container-id-3 div.sk-serial {display: flex;flex-direction: column;align-items: center;background-color: white;padding-right: 0.2em;padding-left: 0.2em;position: relative;}#sk-container-id-3 div.sk-item {position: relative;z-index: 1;}#sk-container-id-3 div.sk-parallel {display: flex;align-items: stretch;justify-content: center;background-color: white;position: relative;}#sk-container-id-3 div.sk-item::before, #sk-container-id-3 div.sk-parallel-item::before {content: \"\";position: absolute;border-left: 1px solid gray;box-sizing: border-box;top: 0;bottom: 0;left: 50%;z-index: -1;}#sk-container-id-3 div.sk-parallel-item {display: flex;flex-direction: column;z-index: 1;position: relative;background-color: white;}#sk-container-id-3 div.sk-parallel-item:first-child::after {align-self: flex-end;width: 50%;}#sk-container-id-3 div.sk-parallel-item:last-child::after {align-self: flex-start;width: 50%;}#sk-container-id-3 div.sk-parallel-item:only-child::after {width: 0;}#sk-container-id-3 div.sk-dashed-wrapped {border: 1px dashed gray;margin: 0 0.4em 0.5em 0.4em;box-sizing: border-box;padding-bottom: 0.4em;background-color: white;}#sk-container-id-3 div.sk-label label {font-family: monospace;font-weight: bold;display: inline-block;line-height: 1.2em;}#sk-container-id-3 div.sk-label-container {text-align: center;}#sk-container-id-3 div.sk-container {/* jupyter's `normalize.less` sets `[hidden] { display: none; }` but bootstrap.min.css set `[hidden] { display: none !important; }` so we also need the `!important` here to be able to override the default hidden behavior on the sphinx rendered scikit-learn.org. See: https://github.com/scikit-learn/scikit-learn/issues/21755 */display: inline-block !important;position: relative;}#sk-container-id-3 div.sk-text-repr-fallback {display: none;}</style><div id=\"sk-container-id-3\" class=\"sk-top-container\"><div class=\"sk-text-repr-fallback\"><pre>RandomForestClassifier(random_state=110)</pre><b>In a Jupyter environment, please rerun this cell to show the HTML representation or trust the notebook. <br />On GitHub, the HTML representation is unable to render, please try loading this page with nbviewer.org.</b></div><div class=\"sk-container\" hidden><div class=\"sk-item\"><div class=\"sk-estimator sk-toggleable\"><input class=\"sk-toggleable__control sk-hidden--visually\" id=\"sk-estimator-id-3\" type=\"checkbox\" checked><label for=\"sk-estimator-id-3\" class=\"sk-toggleable__label sk-toggleable__label-arrow\">RandomForestClassifier</label><div class=\"sk-toggleable__content\"><pre>RandomForestClassifier(random_state=110)</pre></div></div></div></div></div>"
      ],
      "text/plain": [
       "RandomForestClassifier(random_state=110)"
      ]
     },
     "execution_count": 42,
     "metadata": {},
     "output_type": "execute_result"
    }
   ],
   "source": [
    "## Random Forest\n",
    "from sklearn.ensemble import RandomForestClassifier\n",
    "model = RandomForestClassifier(n_estimators=100, random_state=110)\n",
    "model.fit(x_trainidf, y_train)"
   ]
  },
  {
   "cell_type": "markdown",
   "id": "a6e90c0b",
   "metadata": {},
   "source": [
    "### Training Predictions"
   ]
  },
  {
   "cell_type": "code",
   "execution_count": 43,
   "id": "4e98c803",
   "metadata": {},
   "outputs": [
    {
     "name": "stdout",
     "output_type": "stream",
     "text": [
      "\n",
      "Classification report:\n",
      "              precision    recall  f1-score   support\n",
      "\n",
      "           0       1.00      1.00      1.00       237\n",
      "           1       1.00      1.00      1.00      7452\n",
      "\n",
      "    accuracy                           1.00      7689\n",
      "   macro avg       1.00      1.00      1.00      7689\n",
      "weighted avg       1.00      1.00      1.00      7689\n",
      "\n"
     ]
    }
   ],
   "source": [
    "predictions_rf_train = model.predict(x_trainidf)\n",
    "\n",
    "print('\\nClassification report:')\n",
    "cr_rf_train = classification_report(y_train, predictions_rf_train)\n",
    "print(cr_rf_train)"
   ]
  },
  {
   "cell_type": "markdown",
   "id": "ab6b3654",
   "metadata": {},
   "source": [
    "Hasil dari pelatihan model menggunakan data train pada algoritma RF didapatkan akurasi sebesar 1.00"
   ]
  },
  {
   "cell_type": "code",
   "execution_count": 44,
   "id": "f5e7d4ef",
   "metadata": {},
   "outputs": [
    {
     "data": {
      "image/png": "[encoded data removed]",
      "text/plain": [
       "<Figure size 432x288 with 2 Axes>"
      ]
     },
     "metadata": {
      "needs_background": "light"
     },
     "output_type": "display_data"
    }
   ],
   "source": [
    "from sklearn import metrics\n",
    "import seaborn as sns\n",
    "conf_mat = metrics.confusion_matrix(y_train, predictions_rf_train)\n",
    "class_label = ['Negatif','Positif']\n",
    "train = pd.DataFrame(conf_mat, index = class_label, columns = class_label)\n",
    "sns.heatmap(train, annot = True,fmt=\"d\",cmap='Blues')\n",
    "plt.title(\"Confusion Matrix\")\n",
    "plt.xlabel(\"Predicted Label\")\n",
    "plt.ylabel(\"True Label\")\n",
    "plt.show()"
   ]
  },
  {
   "cell_type": "markdown",
   "id": "be8740b8",
   "metadata": {},
   "source": [
    "Dari gambar di atas, dapat dijelaskan evaluasi kinerja model klasifikasi biner yaitu:\n",
    "\n",
    "- True Positif (TP): Jumlah sampel yang benar diprediksi sebagai positif sebesar 7452\n",
    "- False Negatif (FN): Jumlah sampel yang seharusnya positif tetapi salah diprediksi sebagai negatif sebesar 0\n",
    "- False Positif (FP): Jumlah sampel yang seharusnya negatif tetapi salah diprediksi sebagai positif sebesar 237\n",
    "- True Negatif (TN): Jumlah samep yang benar diprediksi sebagai negatif sebesar 0"
   ]
  },
  {
   "cell_type": "markdown",
   "id": "9c9e6ad8",
   "metadata": {},
   "source": [
    "### Testing Predictions"
   ]
  },
  {
   "cell_type": "code",
   "execution_count": 45,
   "id": "628aaa18",
   "metadata": {},
   "outputs": [
    {
     "name": "stdout",
     "output_type": "stream",
     "text": [
      "\n",
      "Classification report:\n",
      "              precision    recall  f1-score   support\n",
      "\n",
      "           0       0.50      0.02      0.03        65\n",
      "           1       0.97      1.00      0.98      1858\n",
      "\n",
      "    accuracy                           0.97      1923\n",
      "   macro avg       0.73      0.51      0.51      1923\n",
      "weighted avg       0.95      0.97      0.95      1923\n",
      "\n"
     ]
    }
   ],
   "source": [
    "predictions_rf = model.predict(x_testidf)\n",
    "\n",
    "print('\\nClassification report:')\n",
    "cr_rf_linear = classification_report(y_test, predictions_rf)\n",
    "print(cr_rf_linear)"
   ]
  },
  {
   "cell_type": "markdown",
   "id": "c3740291",
   "metadata": {},
   "source": [
    "Hasil dari pelatihan model menggunakan data test pada algoritma RF didapatkan akurasi sebesar 0.97"
   ]
  },
  {
   "cell_type": "code",
   "execution_count": 46,
   "id": "52896a68",
   "metadata": {},
   "outputs": [
    {
     "data": {
      "image/png": "[encoded data removed]",
      "text/plain": [
       "<Figure size 432x288 with 2 Axes>"
      ]
     },
     "metadata": {
      "needs_background": "light"
     },
     "output_type": "display_data"
    }
   ],
   "source": [
    "from sklearn import metrics\n",
    "conf_mat = metrics.confusion_matrix(y_test, predictions_rf)\n",
    "class_label = ['Negatif','Positif']\n",
    "train = pd.DataFrame(conf_mat, index = class_label, columns = class_label)\n",
    "sns.heatmap(train, annot = True,fmt=\"d\",cmap='Blues')\n",
    "plt.title(\"Confusion Matrix\")\n",
    "plt.xlabel(\"Predicted Label\")\n",
    "plt.ylabel(\"True Label\")\n",
    "plt.show()"
   ]
  },
  {
   "cell_type": "markdown",
   "id": "61083345",
   "metadata": {},
   "source": [
    "Dari gambar di atas, dapat dijelaskan evaluasi kinerja model klasifikasi biner yaitu:\n",
    "\n",
    "- True Positif (TP): Jumlah sampel yang benar diprediksi sebagai positif sebesar 1857\n",
    "- False Negatif (FN): Jumlah sampel yang seharusnya positif tetapi salah diprediksi sebagai negatif sebesar 1\n",
    "- False Positif (FP): Jumlah sampel yang seharusnya negatif tetapi salah diprediksi sebagai positif sebesar 1\n",
    "- True Negatif (TN): Jumlah samep yang benar diprediksi sebagai negatif sebesar 64"
   ]
  },
  {
   "cell_type": "code",
   "execution_count": 47,
   "id": "2d2c0633",
   "metadata": {},
   "outputs": [
    {
     "data": {
      "text/plain": [
       "0.9661986479459178"
      ]
     },
     "execution_count": 47,
     "metadata": {},
     "output_type": "execute_result"
    }
   ],
   "source": [
    "from sklearn.metrics import classification_report,accuracy_score\n",
    "accuracy_rf = accuracy_score(y_test,predictions_rf)\n",
    "accuracy_rf"
   ]
  },
  {
   "cell_type": "markdown",
   "id": "8ce9c2bc",
   "metadata": {},
   "source": [
    "Didapatkan nilai akurasi dari model Support Vector Machine sebesar 0.966 atau 0.97"
   ]
  },
  {
   "cell_type": "markdown",
   "id": "bb748884",
   "metadata": {},
   "source": [
    "## I. Kesimpulan"
   ]
  },
  {
   "cell_type": "markdown",
   "id": "3d15e9bc",
   "metadata": {},
   "source": [
    "Setiap algoritma perbandingan model memiliki nilai yang hampir sama. tetapi algoritma yang paling baik diterapkan pada data ini yaitu Support Vector Machine dengan nilai evaluasi sebesar 0.967."
   ]
  },
  {
   "cell_type": "code",
   "execution_count": null,
   "id": "0b43ef6b",
   "metadata": {},
   "outputs": [],
   "source": []
  },
  {
   "cell_type": "code",
   "execution_count": null,
   "id": "610cb886",
   "metadata": {},
   "outputs": [],
   "source": []
  },
  {
   "cell_type": "code",
   "execution_count": null,
   "id": "20611f5d",
   "metadata": {},
   "outputs": [],
   "source": []
  },
  {
   "cell_type": "code",
   "execution_count": null,
   "id": "cc6aa1c1",
   "metadata": {},
   "outputs": [],
   "source": []
  },
  {
   "cell_type": "code",
   "execution_count": null,
   "id": "f7ee978f",
   "metadata": {},
   "outputs": [],
   "source": []
  }
 ],
 "metadata": {
  "colab": {
   "provenance": [],
   "toc_visible": true
  },
  "kernelspec": {
   "display_name": "Python 3 (ipykernel)",
   "language": "python",
   "name": "python3"
  },
  "language_info": {
   "codemirror_mode": {
    "name": "ipython",
    "version": 3
   },
   "file_extension": ".py",
   "mimetype": "text/x-python",
   "name": "python",
   "nbconvert_exporter": "python",
   "pygments_lexer": "ipython3",
   "version": "3.9.12"
  }
 },
 "nbformat": 4,
 "nbformat_minor": 5
}
